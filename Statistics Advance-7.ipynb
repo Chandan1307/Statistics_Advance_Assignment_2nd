{
 "cells": [
  {
   "cell_type": "markdown",
   "id": "09ebbad5-30e3-4f1e-b4d1-e32977d37fcf",
   "metadata": {},
   "source": [
    "## Q1. Write a Python function that takes in two arrays of data and calculates the F-value for a variance ratio test. The function should return the F-value and the corresponding p-value for the test."
   ]
  },
  {
   "cell_type": "code",
   "execution_count": 14,
   "id": "701749cd-4baa-4d5a-981c-b738ce635f4c",
   "metadata": {},
   "outputs": [
    {
     "name": "stdout",
     "output_type": "stream",
     "text": [
      "F-value: 4.0\n",
      "P-value: 0.20800000000000005\n"
     ]
    }
   ],
   "source": [
    "import numpy as np\n",
    "from scipy.stats import f\n",
    "\n",
    "def variance_ratio_test(data1, data2):\n",
    "    \"\"\"Performs a variance ratio test on two arrays of data\"\"\"\n",
    "    n1, n2 = len(data1), len(data2)\n",
    "    var1, var2 = np.var(data1, ddof=1), np.var(data2, ddof=1)\n",
    "    f_statistic = var1/var2 if var1 > var2 else var2/var1\n",
    "    df1, df2 = n1-1, n2-1\n",
    "    p_value = f.sf(f_statistic, df1, df2) * 2  # two-sided p-value\n",
    "    return f_statistic, p_value\n",
    "\n",
    "data1 = np.array([1, 2, 3, 4, 5])\n",
    "data2 = np.array([2, 4, 6, 8, 10])\n",
    "f_value, p_value = variance_ratio_test(data1, data2)\n",
    "print(\"F-value:\", f_value)\n",
    "print(\"P-value:\", p_value)\n"
   ]
  },
  {
   "cell_type": "markdown",
   "id": "99cd9c6a-589d-4f40-9ccd-03a1e6e36f8e",
   "metadata": {},
   "source": [
    "## Q2. Given a significance level of 0.05 and the degrees of freedom for the numerator and denominator of an F-distribution, write a Python function that returns the critical F-value for a two-tailed test."
   ]
  },
  {
   "cell_type": "code",
   "execution_count": 3,
   "id": "e181fc92-85e0-44ed-b3a5-954ec2db2335",
   "metadata": {},
   "outputs": [
    {
     "name": "stdout",
     "output_type": "stream",
     "text": [
      "Critical F-value for a two-tailed test with alpha=0.05, dfn=3, and dfd=16: 4.08\n"
     ]
    }
   ],
   "source": [
    "from scipy.stats import f\n",
    "\n",
    "def critical_f_value(alpha, dfn, dfd):\n",
    "    \"\"\"\n",
    "    Calculates the critical F-value for a two-tailed test given a significance level and degrees of freedom \n",
    "    for numerator and denominator of an F-distribution.\n",
    "    \"\"\"\n",
    "    return f.ppf(1 - alpha / 2, dfn, dfd)\n",
    "\n",
    "alpha = 0.05\n",
    "dfn = 3\n",
    "dfd = 16\n",
    "\n",
    "critical_f = critical_f_value(alpha, dfn, dfd)\n",
    "print(f\"Critical F-value for a two-tailed test with alpha={alpha}, dfn={dfn}, and dfd={dfd}: {critical_f:.2f}\")"
   ]
  },
  {
   "cell_type": "markdown",
   "id": "2386dcbf-2d4c-43f6-930b-a6826bcc6539",
   "metadata": {},
   "source": [
    "## Q3. Write a Python program that generates random samples from two normal distributions with known variances and uses an F-test to determine if the variances are equal. The program should output the F-value, degrees of freedom, and p-value for the test."
   ]
  },
  {
   "cell_type": "code",
   "execution_count": 5,
   "id": "22dc0006-85c9-4ea1-b4c9-938b91999b3a",
   "metadata": {},
   "outputs": [
    {
     "name": "stdout",
     "output_type": "stream",
     "text": [
      "F-value: 0.9541\n",
      "Degrees of freedom: (49, 59)\n",
      "P-value: 0.8709\n"
     ]
    }
   ],
   "source": [
    "import numpy as np\n",
    "from scipy.stats import f\n",
    "\n",
    "# Generate random samples from two normal distributions with known variances\n",
    "np.random.seed(123)\n",
    "n1 = 50\n",
    "n2 = 60\n",
    "mean1 = 10\n",
    "mean2 = 12\n",
    "var1 = 4\n",
    "var2 = 4.8\n",
    "sample1 = np.random.normal(mean1, np.sqrt(var1), n1)\n",
    "sample2 = np.random.normal(mean2, np.sqrt(var2), n2)\n",
    "\n",
    "# Calculate the F-value and p-value for the test\n",
    "f_value = np.var(sample1, ddof=1) / np.var(sample2, ddof=1)\n",
    "df1 = n1 - 1\n",
    "df2 = n2 - 1\n",
    "p_value = 2 * min(f.cdf(f_value, df1, df2), 1 - f.cdf(f_value, df1, df2))\n",
    "\n",
    "# Output the results\n",
    "print(\"F-value: {:.4f}\".format(f_value))\n",
    "print(\"Degrees of freedom: ({}, {})\".format(df1, df2))\n",
    "print(\"P-value: {:.4f}\".format(p_value))\n"
   ]
  },
  {
   "cell_type": "markdown",
   "id": "724e01e5-2645-414f-a96e-a064f6766b33",
   "metadata": {},
   "source": [
    "## Q4.The variances of two populations are known to be 10 and 15. A sample of 12 observations is taken from each population. Conduct an F-test at the 5% significance level to determine if the variances are significantly different."
   ]
  },
  {
   "cell_type": "code",
   "execution_count": 6,
   "id": "c62f8a05-07f2-43ab-b311-4223c36fa39a",
   "metadata": {},
   "outputs": [
    {
     "name": "stdout",
     "output_type": "stream",
     "text": [
      "The variances are not significantly different.\n",
      "F-statistic: 1.23\n",
      "Degrees of freedom: 11, 11\n",
      "P-value: 0.7330\n"
     ]
    }
   ],
   "source": [
    "import numpy as np\n",
    "from scipy.stats import f\n",
    "\n",
    "# Define the sample sizes and known variances\n",
    "n1 = n2 = 12\n",
    "var1 = 10\n",
    "var2 = 15\n",
    "\n",
    "# Generate random samples from the two populations\n",
    "pop1 = np.random.normal(loc=0, scale=np.sqrt(var1), size=n1)\n",
    "pop2 = np.random.normal(loc=0, scale=np.sqrt(var2), size=n2)\n",
    "\n",
    "# Calculate the sample variances and the F-statistic\n",
    "s1 = np.var(pop1, ddof=1)\n",
    "s2 = np.var(pop2, ddof=1)\n",
    "f_stat = s1/s2\n",
    "\n",
    "# Calculate the degrees of freedom for the F-distribution\n",
    "df1 = n1 - 1\n",
    "df2 = n2 - 1\n",
    "\n",
    "# Calculate the p-value using the F-distribution\n",
    "p_value = 2*f.sf(f_stat, df1, df2)\n",
    "\n",
    "# Compare the p-value to the significance level\n",
    "alpha = 0.05\n",
    "if p_value < alpha:\n",
    "    print(\"The variances are significantly different.\")\n",
    "else:\n",
    "    print(\"The variances are not significantly different.\")\n",
    "\n",
    "# Print the F-statistic, degrees of freedom, and p-value\n",
    "print(f\"F-statistic: {f_stat:.2f}\")\n",
    "print(f\"Degrees of freedom: {df1}, {df2}\")\n",
    "print(f\"P-value: {p_value:.4f}\")"
   ]
  },
  {
   "cell_type": "markdown",
   "id": "78222489-3e97-48fa-8bd1-d9c33d98378c",
   "metadata": {},
   "source": [
    "## Q5. A manufacturer claims that the variance of the diameter of a certain product is 0.005. A sample of 25 products is taken, and the sample variance is found to be 0.006. Conduct an F-test at the 1% significance level to determine if the claim is justified."
   ]
  },
  {
   "cell_type": "code",
   "execution_count": 11,
   "id": "380f7235-dcf4-42fd-a3aa-7761d8122345",
   "metadata": {},
   "outputs": [
    {
     "name": "stdout",
     "output_type": "stream",
     "text": [
      "F-value: 1.2\n",
      "p-value: 0.3293654682817244\n"
     ]
    }
   ],
   "source": [
    "import numpy as np\n",
    "from scipy.stats import f\n",
    "\n",
    "# Define the null hypothesis variance and sample variance\n",
    "HO_var = 0.005\n",
    "sample_var = 0.006\n",
    "\n",
    "# Define the degree of freedom for the numerator and denominator\n",
    "dfn = 24\n",
    "dfd = 24\n",
    "\n",
    "# Calculate the F-value and P-value\n",
    "F = sample_var / HO_var\n",
    "p = 1 - f.cdf(F, dfn, dfd)\n",
    "\n",
    "# Print the results\n",
    "print(\"F-value:\", F)\n",
    "print(\"p-value:\", p)"
   ]
  },
  {
   "cell_type": "markdown",
   "id": "de7c8e59-620d-4917-8dc0-bcbf392ec05e",
   "metadata": {},
   "source": [
    "## Q6. Write a Python function that takes in the degrees of freedom for the numerator and denominator of an F-distribution and calculates the mean and variance of the distribution. The function should return the mean and variance as a tuple."
   ]
  },
  {
   "cell_type": "code",
   "execution_count": 1,
   "id": "f5f584cd-c955-4739-a49f-c75c649c1154",
   "metadata": {},
   "outputs": [],
   "source": [
    "from math import gamma\n",
    "\n",
    "def f_distribution_mean_var(nu1, nu2):\n",
    "    mean = nu2 / (nu2 - 2)\n",
    "    var = (2 * nu2 ** 2 * (nu1 + nu2 - 2)) / (nu1 * (nu2 - 2) ** 2 * (nu2 - 4))\n",
    "    return mean, var\n"
   ]
  },
  {
   "cell_type": "markdown",
   "id": "07cd5e1e-dd74-477d-8581-b8203eeabbb2",
   "metadata": {},
   "source": [
    "## Q7. A random sample of 10 measurements is taken from a normal population with unknown variance. The sample variance is found to be 25. Another random sample of 15 measurements is taken from another normal population with unknown variance, and the sample variance is found to be 20. Conduct an F-test at the 10% significance level to determine if the variances are significantly different."
   ]
  },
  {
   "cell_type": "code",
   "execution_count": 2,
   "id": "e5c674de-06a1-4bb7-b645-a04f598ed1e6",
   "metadata": {},
   "outputs": [
    {
     "name": "stdout",
     "output_type": "stream",
     "text": [
      "The variances are not significantly different.\n"
     ]
    }
   ],
   "source": [
    "import scipy.stats as stats\n",
    "\n",
    "# Define the sample variances\n",
    "s1_squared = 25\n",
    "s2_squared = 20\n",
    "\n",
    "# Define the degrees of freedom\n",
    "n1 = 10\n",
    "n2 = 15\n",
    "\n",
    "# Calculate the test statistic\n",
    "f = s1_squared / s2_squared\n",
    "\n",
    "# Define the significance level\n",
    "alpha = 0.1\n",
    "\n",
    "# Calculate the critical F-value\n",
    "dfn = n1 - 1\n",
    "dfd = n2 - 1\n",
    "f_crit = stats.f.ppf(alpha/2, dfn, dfd, loc=0, scale=1)\n",
    "\n",
    "# Determine if the null hypothesis is rejected\n",
    "if f < f_crit or f > 1/f_crit:\n",
    "    print(\"The variances are significantly different.\")\n",
    "else:\n",
    "    print(\"The variances are not significantly different.\")"
   ]
  },
  {
   "cell_type": "markdown",
   "id": "55b935a8-9ace-4728-aa51-b5146aba246d",
   "metadata": {},
   "source": [
    "## Q8. The following data represent the waiting times in minutes at two different restaurants on a Saturday night: Restaurant A: 24, 25, 28, 23, 22, 20, 27; Restaurant B: 31, 33, 35, 30, 32, 36. Conduct an F-test at the 5% significance level to determine if the variances are significantly different."
   ]
  },
  {
   "cell_type": "code",
   "execution_count": 3,
   "id": "8b4d0cfd-96b4-41e9-a184-d6125ed4a0c4",
   "metadata": {},
   "outputs": [
    {
     "name": "stdout",
     "output_type": "stream",
     "text": [
      "The variances are not significantly different.\n"
     ]
    }
   ],
   "source": [
    "import numpy as np\n",
    "from scipy.stats import f\n",
    "\n",
    "# Define the data\n",
    "x1 = np.array([24, 25, 28, 23, 22, 20, 27])\n",
    "x2 = np.array([31, 33, 35, 30, 32, 36])\n",
    "\n",
    "# Compute the sample variances\n",
    "s1_sq = np.var(x1, ddof=1)\n",
    "s2_sq = np.var(x2, ddof=1)\n",
    "\n",
    "# Compute the F-statistic\n",
    "F = s1_sq / s2_sq\n",
    "\n",
    "# Compute the degrees of freedom\n",
    "df1 = len(x1) - 1\n",
    "df2 = len(x2) - 1\n",
    "\n",
    "# Compute the p-value\n",
    "p_value = 2 * (1 - f.cdf(F, df1, df2))\n",
    "\n",
    "# Set the significance level\n",
    "alpha = 0.05\n",
    "\n",
    "# Compare the p-value to alpha\n",
    "if p_value < alpha:\n",
    "    print(\"The variances are significantly different.\")\n",
    "else:\n",
    "    print(\"The variances are not significantly different.\")"
   ]
  },
  {
   "cell_type": "markdown",
   "id": "4725fe41-82b4-4e82-8cc6-4f12b34b620e",
   "metadata": {},
   "source": [
    "## Q9. The following data represent the test scores of two groups of students: Group A: 80, 85, 90, 92, 87, 83; Group B: 75, 78, 82, 79, 81, 84. Conduct an F-test at the 1% significance level to determine if the variances are significantly different."
   ]
  },
  {
   "cell_type": "code",
   "execution_count": 4,
   "id": "0b2f5374-a145-4e38-8b9b-bffcc6899d98",
   "metadata": {},
   "outputs": [
    {
     "name": "stdout",
     "output_type": "stream",
     "text": [
      "There is not enough evidence to support the claim that the variances are significantly different.\n"
     ]
    }
   ],
   "source": [
    "import numpy as np\n",
    "from scipy.stats import f\n",
    "\n",
    "# Define the data\n",
    "group_a = np.array([80, 85, 90, 92, 87, 83])\n",
    "group_b = np.array([75, 78, 82, 79, 81, 84])\n",
    "\n",
    "# Calculate the sample variances\n",
    "var_a = np.var(group_a, ddof=1)\n",
    "var_b = np.var(group_b, ddof=1)\n",
    "\n",
    "# Calculate the F-statistic\n",
    "f_statistic = var_a / var_b if var_a > var_b else var_b / var_a\n",
    "\n",
    "# Calculate the critical F-value\n",
    "df_num = len(group_a) - 1\n",
    "df_denom = len(group_b) - 1\n",
    "critical_f = f.ppf(0.995, df_num, df_denom)\n",
    "\n",
    "# Compare the calculated F-statistic to the critical F-value\n",
    "if f_statistic > critical_f:\n",
    "    print(\"The variances are significantly different.\")\n",
    "else:\n",
    "    print(\"There is not enough evidence to support the claim that the variances are significantly different.\")"
   ]
  },
  {
   "cell_type": "code",
   "execution_count": null,
   "id": "c4b82a4b-86d6-4468-8de8-140f1df4abd0",
   "metadata": {},
   "outputs": [],
   "source": []
  }
 ],
 "metadata": {
  "kernelspec": {
   "display_name": "Python 3 (ipykernel)",
   "language": "python",
   "name": "python3"
  },
  "language_info": {
   "codemirror_mode": {
    "name": "ipython",
    "version": 3
   },
   "file_extension": ".py",
   "mimetype": "text/x-python",
   "name": "python",
   "nbconvert_exporter": "python",
   "pygments_lexer": "ipython3",
   "version": "3.10.8"
  }
 },
 "nbformat": 4,
 "nbformat_minor": 5
}
