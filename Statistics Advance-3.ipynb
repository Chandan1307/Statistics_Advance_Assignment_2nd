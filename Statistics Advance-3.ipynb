{
 "cells": [
  {
   "cell_type": "markdown",
   "id": "f499e916-576b-45ab-8f0e-8e205c4f856b",
   "metadata": {},
   "source": [
    "## Q1: What is Estimation Statistics? Explain point estimate and interval estimate."
   ]
  },
  {
   "cell_type": "markdown",
   "id": "c79c5466-3372-428b-b7c1-6105f44b418b",
   "metadata": {},
   "source": [
    "Estimation statistics is a branch of statistics that involves using sample data to estimate population parameters. It allows us to make predictions and draw conclusions about a population based on the information we have gathered from a sample.\n",
    "\n",
    "There are two main types of estimation in statistics: \n",
    "1) Point estimation \n",
    "\n",
    "2) interval estimation.\n",
    "\n",
    "Point estimate involves estimating a single value for the population parameter based on the sample data. \n",
    "\n",
    "For example, if we want to estimate the average income of people living in a particular city, we can take a sample of individuals and calculate the mean income of that sample. This mean income would then serve as our point estimate for the population parameter of average income.\n",
    "\n",
    "Interval estimate involves estimating a range of values for the population parameter based on the sample data. This range is called a confidence interval and it provides us with a measure of the uncertainty surrounding our point estimate. The confidence interval is constructed by calculating the standard error of the point estimate and using it to determine the range of values that the population parameter is likely to fall within with a certain level of confidence. \n",
    "\n",
    "For example, we might construct a 95% confidence interval for the average income of people living in a particular city based on our sample data. This would give us a range of values within which we can be 95% confident that the true population parameter falls.\n"
   ]
  },
  {
   "cell_type": "markdown",
   "id": "d090a08e-8f3a-4b04-a3ba-3137cca9b5eb",
   "metadata": {},
   "source": [
    "## Q2. Write a Python function to estimate the population mean using a sample mean and standard deviation."
   ]
  },
  {
   "cell_type": "code",
   "execution_count": 1,
   "id": "563053a7-785c-408e-ac48-22be6803823b",
   "metadata": {},
   "outputs": [],
   "source": [
    "# Sure, here's an example Python function to estimate the population mean using a sample mean and standard deviation:\n",
    "def estimate_population_mean(sample_mean, sample_std_dev, sample_size):\n",
    "    \"\"\"\n",
    "    Function to estimate the population mean using a sample mean and standard deviation.\n",
    "    \n",
    "    Arguments:\n",
    "    sample_mean -- float, the mean of the sample\n",
    "    sample_std_dev -- float, the standard deviation of the sample\n",
    "    sample_size -- int, the size of the sample\n",
    "    \n",
    "    Returns:\n",
    "    float, the estimated population mean\n",
    "    \"\"\"\n",
    "    import math\n",
    "    std_error = sample_std_dev / math.sqrt(sample_size)\n",
    "    z_critical = 1.96 # for 95% confidence level\n",
    "    margin_of_error = z_critical * std_error\n",
    "    lower_bound = sample_mean - margin_of_error\n",
    "    upper_bound = sample_mean + margin_of_error\n",
    "    estimated_population_mean = (lower_bound + upper_bound) / 2\n",
    "    return estimated_population_mean"
   ]
  },
  {
   "cell_type": "markdown",
   "id": "217bc33b-6bc0-40f1-b5c0-f3f28363a9b1",
   "metadata": {},
   "source": [
    "To use this function, you would need to provide the sample mean, sample standard deviation, and sample size as arguments. The function calculates the standard error, margin of error, and confidence interval using the formula for a 95% confidence level (z_critical = 1.96). It then calculates the estimated population mean as the midpoint of the confidence interval."
   ]
  },
  {
   "cell_type": "code",
   "execution_count": 2,
   "id": "f6194783-0b92-42fa-8ad5-cd9c38d632fe",
   "metadata": {},
   "outputs": [
    {
     "name": "stdout",
     "output_type": "stream",
     "text": [
      "Estimated population mean:  75.0\n"
     ]
    }
   ],
   "source": [
    "sample_mean = 75\n",
    "sample_std_dev = 10\n",
    "sample_size = 50\n",
    "\n",
    "estimated_mean = estimate_population_mean(sample_mean, sample_std_dev, sample_size)\n",
    "print(\"Estimated population mean: \", estimated_mean)"
   ]
  },
  {
   "cell_type": "markdown",
   "id": "db1248e6-660d-4e5b-a305-fb256e3a22b0",
   "metadata": {},
   "source": [
    "Note that the estimated population mean is not exactly equal to the sample mean. This is because we are using a sample to estimate the population mean, so there will always be some degree of uncertainty or error involved in the estimation. The confidence interval gives us a measure of this uncertainty."
   ]
  },
  {
   "cell_type": "markdown",
   "id": "3f74162a-1b2a-4828-9a32-32012b08cb2e",
   "metadata": {},
   "source": [
    "## Q3: What is Hypothesis testing? Why is it used? State the importance of Hypothesis testing."
   ]
  },
  {
   "cell_type": "markdown",
   "id": "93d0473a-c743-41d0-b0c2-09ff7729c090",
   "metadata": {},
   "source": [
    "Hypothesis testing is a statistical method used to make inferences about a population based on a sample of data. It involves making assumptions, or hypotheses, about the population parameter(s) of interest, and then using sample data to evaluate the plausibility of these hypotheses.\n",
    "\n",
    "\n",
    "Hypothesis testing is used to determine whether an observed effect or relationship in the sample is statistically significant or likely to occur by chance alone, or if it is a true effect that reflects a difference or relationship in the population. The goal of hypothesis testing is to make an objective decision based on the evidence provided by the sample data.\n",
    "\n",
    "\n",
    "The importance of hypothesis testing lies in its ability to help researchers draw valid conclusions from their data. It provides a framework for making decisions about the plausibility of different hypotheses, and helps to minimize the likelihood of drawing incorrect conclusions based on random variation in the data.\n",
    "\n",
    "\n",
    "Hypothesis testing is used in many fields, including social sciences, business, engineering, and medicine. It is particularly important in scientific research, where it is used to evaluate the validity of research findings and to make decisions about the direction of future research.\n",
    "\n",
    "\n",
    "In summary, hypothesis testing is a powerful tool for making objective decisions based on sample data. It is used to determine whether observed effects or relationships are statistically significant and likely to reflect true differences or relationships in the population. Hypothesis testing is an essential part of the scientific method and is used in a wide range of fields to draw valid conclusions from data.\n"
   ]
  },
  {
   "cell_type": "markdown",
   "id": "0271f5df-cc00-43dc-a222-37e2283ea506",
   "metadata": {},
   "source": [
    "## Q4. Create a hypothesis that states whether the average weight of male college students is greater than the average weight of female college students."
   ]
  },
  {
   "cell_type": "markdown",
   "id": "e4a5b6a8-3ede-4950-b463-1ef2e213383c",
   "metadata": {},
   "source": [
    "Here is an example hypothesis statement that compares the average weight of male and female college students:\n",
    "\n",
    "\n",
    "Null hypothesis: The average weight of male college students is not significantly different from the average weight of female college students.\n",
    "\n",
    "\n",
    "Alternative hypothesis: The average weight of male college students is significantly greater than the average weight of female college students.\n",
    "\n",
    "\n",
    "This hypothesis assumes that there is a difference between the average weight of male and female college students, and that this difference is not likely to be due to chance. The null hypothesis represents the opposite scenario, where there is no significant difference between the two groups.\n",
    "\n",
    "\n",
    "To test this hypothesis, we would need to collect data on the weights of male and female college students and use statistical methods to analyze the data and evaluate the likelihood of the null hypothesis."
   ]
  },
  {
   "cell_type": "markdown",
   "id": "59b38b2a-7702-4fe3-b60a-fafcb74c953d",
   "metadata": {},
   "source": [
    "## Q5. Write a Python script to conduct a hypothesis test on the difference between two population means, given a sample from each population."
   ]
  },
  {
   "cell_type": "markdown",
   "id": "dd1c73f9-8d0c-4431-89bd-934056f6cae0",
   "metadata": {},
   "source": [
    "Sure, here's an example Python script to conduct a hypothesis test on the difference between two population means, given a sample from each population. We will use a two-sample t-test assuming equal variances to test the hypothesis that the means of the two populations are equal:"
   ]
  },
  {
   "cell_type": "code",
   "execution_count": 3,
   "id": "699213dc-38ae-47ce-9fd4-c41adc51b9b2",
   "metadata": {},
   "outputs": [
    {
     "name": "stdout",
     "output_type": "stream",
     "text": [
      "Sample 1 mean:  18.6\n",
      "Sample 2 mean:  23.0\n",
      "Pooled standard deviation:  32.46666666666667\n",
      "T-statistic:  -0.3030400133777948\n",
      "P-value:  0.7653337765274455\n",
      "Fail to reject the null hypothesis\n"
     ]
    }
   ],
   "source": [
    "import scipy.stats as stats\n",
    "\n",
    "# Sample data from population 1\n",
    "sample_1 = [10, 12, 15, 16, 18, 20, 22, 23, 24, 26]\n",
    "\n",
    "# Sample data from population 2\n",
    "sample_2 = [14, 16, 18, 20, 22, 24, 26, 28, 30, 32]\n",
    "\n",
    "# Calculate the means and standard deviations of the two samples\n",
    "mean_1 = sum(sample_1) / len(sample_1)\n",
    "mean_2 = sum(sample_2) / len(sample_2)\n",
    "std_dev_1 = stats.tstd(sample_1)\n",
    "std_dev_2 = stats.tstd(sample_2)\n",
    "\n",
    "# Calculate the pooled standard deviation assuming equal variances\n",
    "pooled_std_dev = ((len(sample_1) - 1) * std_dev_1 ** 2 + (len(sample_2) - 1) * std_dev_2 ** 2) / (len(sample_1) + len(sample_2) - 2)\n",
    "pooled_std_error = pooled_std_dev * (1 / len(sample_1) + 1 / len(sample_2)) ** 0.5\n",
    "\n",
    "# Calculate the t-statistic and p-value for the two-sample t-test assuming equal variances\n",
    "t_statistic = (mean_1 - mean_2) / pooled_std_error\n",
    "degrees_of_freedom = len(sample_1) + len(sample_2) - 2\n",
    "p_value = stats.t.sf(abs(t_statistic), degrees_of_freedom) * 2\n",
    "\n",
    "# Print the results of the hypothesis test\n",
    "print(\"Sample 1 mean: \", mean_1)\n",
    "print(\"Sample 2 mean: \", mean_2)\n",
    "print(\"Pooled standard deviation: \", pooled_std_dev)\n",
    "print(\"T-statistic: \", t_statistic)\n",
    "print(\"P-value: \", p_value)\n",
    "if p_value < 0.05:\n",
    "    print(\"Reject the null hypothesis\")\n",
    "else:\n",
    "    print(\"Fail to reject the null hypothesis\")"
   ]
  },
  {
   "cell_type": "markdown",
   "id": "8204b4f0-da97-4ddb-8f77-a3f342d2770c",
   "metadata": {},
   "source": [
    "## Q6: What is a null and alternative hypothesis? Give some examples."
   ]
  },
  {
   "cell_type": "markdown",
   "id": "505ba4be-6ce5-4c5c-9670-599b40ea186c",
   "metadata": {},
   "source": [
    "In statistical hypothesis testing, the null hypothesis (H0) and alternative hypothesis (Ha) are two competing statements about the population parameter(s) of interest. The null hypothesis represents the default or status quo assumption, while the alternative hypothesis represents a different or opposing assumption.\n",
    "\n",
    "Here are some examples of null and alternative hypotheses:\n",
    "\n",
    "Null hypothesis: The average height of adult men and women in a certain population is the same.\n",
    "Alternative hypothesis: The average height of adult men is significantly different from the average height of adult women in the population.\n",
    "\n",
    "Null hypothesis: The mean score on a certain exam is 80.\n",
    "Alternative hypothesis: The mean score on the exam is significantly different from 80.\n",
    "\n",
    "Null hypothesis: A new drug has no effect on blood pressure.\n",
    "Alternative hypothesis: The new drug has a significant effect on blood pressure.\n",
    "\n",
    "Null hypothesis: There is no relationship between smoking and lung cancer.\n",
    "Alternative hypothesis: There is a significant relationship between smoking and lung cancer.\n",
    "\n",
    "In each of these examples, the null hypothesis represents the default assumption or the absence of an effect or relationship. The alternative hypothesis represents a different or opposing assumption that we want to test by collecting data and using statistical methods to evaluate the likelihood of the null hypothesis. The choice of the null and alternative hypotheses depends on the research question and the hypotheses that the researcher wants to test."
   ]
  },
  {
   "cell_type": "markdown",
   "id": "66387745-590d-40be-93c4-9cd8b84c72dc",
   "metadata": {},
   "source": [
    "## Q7: Write down the steps involved in hypothesis testing."
   ]
  },
  {
   "cell_type": "markdown",
   "id": "f9ca8b2b-0f18-4970-a2e3-d9b6c1956f56",
   "metadata": {},
   "source": [
    "State the null hypothesis (H0) and the alternative hypothesis (Ha):\n",
    "The null hypothesis is the default assumption or the status quo, while the alternative hypothesis is the opposite or the alternative assumption. The null hypothesis usually includes an equality statement or no effect, while the alternative hypothesis includes an inequality statement or an effect.\n",
    "\n",
    "Determine the appropriate test statistic:\n",
    "The choice of the test statistic depends on the research question and the type of data. For example, if the data are continuous and normally distributed, we can use a t-test or z-test. If the data are categorical, we can use a chi-square test.\n",
    "\n",
    "Determine the level of significance:\n",
    "The level of significance (α) is the maximum probability of rejecting the null hypothesis when it is true. It is usually set at 0.05 or 0.01, but it can be adjusted based on the research question and the consequences of Type I and Type II errors.\n",
    "\n",
    "Collect and analyze the data:\n",
    "Collect a sample from the population of interest and calculate the test statistic and the p-value. The test statistic measures how far the sample result is from the null hypothesis, while the p-value represents the probability of obtaining a result as extreme or more extreme than the observed result, assuming that the null hypothesis is true.\n",
    "\n",
    "Make a decision and interpret the results:\n",
    "Compare the p-value with the level of significance. If the p-value is less than the level of significance, reject the null hypothesis in favor of the alternative hypothesis. If the p-value is greater than the level of significance, fail to reject the null hypothesis.\n",
    "\n",
    "Draw conclusions and communicate the results:\n",
    "Based on the decision and interpretation, draw conclusions about the research question and communicate the results in a clear and concise manner, including the test statistic, the p-value, the conclusion, and the practical implications."
   ]
  },
  {
   "cell_type": "code",
   "execution_count": 1,
   "id": "37a9d1f5-7c0d-4d99-b3c9-0671d27effc0",
   "metadata": {},
   "outputs": [
    {
     "name": "stdout",
     "output_type": "stream",
     "text": [
      "Mean height of group 1: 169.2985235409611\n",
      "Mean height of group 2: 165.51398785135643\n",
      "Standard deviation of group 1: 4.79636407269969\n",
      "Standard deviation of group 2: 4.779334591314282\n",
      "t-statistic: 3.9125012143297617\n",
      "p-value: 0.0001686043358463985\n"
     ]
    }
   ],
   "source": [
    "import numpy as np\n",
    "from scipy.stats import ttest_ind\n",
    "\n",
    "# Generate random heights for two groups\n",
    "heights1 = np.random.normal(170, 5, 50)\n",
    "heights2 = np.random.normal(165, 5, 50)\n",
    "\n",
    "# Calculate the mean and standard deviation for each group\n",
    "mean1 = np.mean(heights1)\n",
    "mean2 = np.mean(heights2)\n",
    "std1 = np.std(heights1)\n",
    "std2 = np.std(heights2)\n",
    "\n",
    "# Conduct a two-sample t-test\n",
    "t, p = ttest_ind(heights1, heights2)\n",
    "\n",
    "# Print the results\n",
    "print(\"Mean height of group 1:\", mean1)\n",
    "print(\"Mean height of group 2:\", mean2)\n",
    "print(\"Standard deviation of group 1:\", std1)\n",
    "print(\"Standard deviation of group 2:\", std2)\n",
    "print(\"t-statistic:\", t)\n",
    "print(\"p-value:\", p)"
   ]
  },
  {
   "cell_type": "markdown",
   "id": "77828ffb-a8c8-4185-89eb-64eff09fc560",
   "metadata": {},
   "source": [
    "## Q8. Define p-value and explain its significance in hypothesis testing."
   ]
  },
  {
   "cell_type": "markdown",
   "id": "8f03b151-b3c8-494d-a57b-d559f2ed894b",
   "metadata": {},
   "source": [
    "The p-value is the probability of obtaining a test statistic at least as extreme as the one observed, assuming the null hypothesis is true. In other words, it measures the strength of evidence against the null hypothesis. The smaller the p-value, the stronger the evidence against the null hypothesis and the more likely we are to reject it.\n",
    "\n",
    "In hypothesis testing, we use the p-value to make a decision about whether to reject or fail to reject the null hypothesis. We compare the p-value to the level of significance (alpha) that we set at the beginning of the test. If the p-value is less than or equal to alpha, we reject the null hypothesis and conclude that there is significant evidence to support the alternative hypothesis. If the p-value is greater than alpha, we fail to reject the null hypothesis and conclude that there is not enough evidence to support the alternative hypothesis.\n",
    "\n",
    "For example, if we set the level of significance at alpha = 0.05 and we obtain a p-value of 0.03, we can reject the null hypothesis and conclude that there is significant evidence to support the alternative hypothesis. However, if we obtain a p-value of 0.10, we fail to reject the null hypothesis and conclude that there is not enough evidence to support the alternative hypothesis.\n",
    "\n",
    "Therefore, the p-value is a critical component of hypothesis testing, as it provides a quantitative measure of the strength of evidence against the null hypothesis and helps us make informed decisions about whether to accept or reject the research hypothesis."
   ]
  },
  {
   "cell_type": "code",
   "execution_count": 2,
   "id": "19bc2a28-dbb3-4891-b6fa-444f56129c86",
   "metadata": {},
   "outputs": [
    {
     "name": "stdout",
     "output_type": "stream",
     "text": [
      "t-statistic: 0.5694947974514991\n",
      "p-value: 0.5846522205119927\n"
     ]
    }
   ],
   "source": [
    "from scipy.stats import ttest_ind\n",
    "\n",
    "# Generate two samples\n",
    "sample1 = [10, 12, 14, 16, 18]\n",
    "sample2 = [8, 11, 13, 15, 17]\n",
    "\n",
    "# Conduct a two-sample t-test\n",
    "t_stat, p_value = ttest_ind(sample1, sample2)\n",
    "\n",
    "# Print the results\n",
    "print(\"t-statistic:\", t_stat)\n",
    "print(\"p-value:\", p_value)"
   ]
  },
  {
   "cell_type": "markdown",
   "id": "8fb289a8-7f23-4413-bd17-fe403519366c",
   "metadata": {},
   "source": [
    "## Q9. Generate a Student's t-distribution plot using Python's matplotlib library, with the degrees of freedom parameter set to 10."
   ]
  },
  {
   "cell_type": "code",
   "execution_count": 2,
   "id": "5733ed89-3263-477b-a977-1094d2da0614",
   "metadata": {},
   "outputs": [
    {
     "data": {
      "image/png": "[encoded data removed]",
      "text/plain": [
       "<Figure size 640x480 with 1 Axes>"
      ]
     },
     "metadata": {},
     "output_type": "display_data"
    }
   ],
   "source": [
    "import numpy as np\n",
    "import matplotlib.pyplot as plt\n",
    "from scipy.stats import t\n",
    "\n",
    "# Set the degrees of freedom\n",
    "df = 10\n",
    "\n",
    "# Set the range of x-values\n",
    "x = np.linspace(-4, 4, 1000)\n",
    "\n",
    "# Calculate the t-distribution for the given degrees of freedom\n",
    "y = t.pdf(x, df)\n",
    "\n",
    "# Create a plot of the t-distribution\n",
    "plt.plot(x, y, label='t-distribution (df=10)')\n",
    "\n",
    "# Add a legend and title\n",
    "plt.legend()\n",
    "plt.title('Student\\'s t-distribution')\n",
    "\n",
    "# Show the plot\n",
    "plt.show()\n"
   ]
  },
  {
   "cell_type": "markdown",
   "id": "7ce45188-9d7f-4f07-bc3b-40aef91c28d3",
   "metadata": {},
   "source": [
    "## Q10. Write a Python program to calculate the two-sample t-test for independent samples, given two random samples of equal size and a null hypothesis that the population means are equal."
   ]
  },
  {
   "cell_type": "code",
   "execution_count": 4,
   "id": "61193bee-58fa-4ea8-916f-c1363b43d963",
   "metadata": {},
   "outputs": [
    {
     "name": "stdout",
     "output_type": "stream",
     "text": [
      "T-Test Statistic:  -5.0\n",
      "P-Value:  0.001052825793366539\n"
     ]
    }
   ],
   "source": [
    "import scipy.stats as stats\n",
    "\n",
    "# Create two random samples\n",
    "sample1 = [1, 2, 3, 4, 5]\n",
    "sample2 = [6, 7, 8, 9, 10]\n",
    "\n",
    "# Calculate the t-test statistic and p-value\n",
    "t_statistic, p_value = stats.ttest_ind(sample1, sample2)\n",
    "\n",
    "# Print the results\n",
    "print(\"T-Test Statistic: \", t_statistic)\n",
    "print(\"P-Value: \", p_value)\n"
   ]
  },
  {
   "cell_type": "markdown",
   "id": "d31b27bd-f570-46c4-a3cc-c1df3d5d0502",
   "metadata": {},
   "source": [
    "## Q11: What is Student’s t distribution? When to use the t-Distribution."
   ]
  },
  {
   "cell_type": "markdown",
   "id": "158ede96-a6e4-446f-a193-8eeedaf4e93b",
   "metadata": {},
   "source": [
    "The Student's t-distribution is a probability distribution that is used in hypothesis testing and confidence interval calculations when the sample size is small and the population standard deviation is unknown. It is named after William Gosset, who wrote under the pseudonym \"Student\" while working at the Guinness Brewery in Dublin, Ireland.\n",
    "\n",
    "\n",
    "The t-distribution is similar to the standard normal distribution, but with heavier tails. As the sample size increases, the t-distribution approaches the standard normal distribution. The shape of the t-distribution depends on the degrees of freedom (df), which is equal to the sample size minus one.\n",
    "\n",
    "\n",
    "The t-distribution is used when the population standard deviation is unknown and must be estimated from the sample. It is also used when the sample size is small, typically less than 30. In these situations, the t-distribution provides a more accurate estimate of the population mean than the normal distribution.\n",
    "\n",
    "\n",
    "The t-distribution is commonly used in hypothesis testing to determine if there is a significant difference between two sample means, or between a sample mean and a hypothesized population mean. It is also used in confidence interval calculations to estimate the range of values within which the population mean is likely to fall.\n",
    "\n",
    "\n",
    "Overall, the t-distribution is an important statistical tool for making inferences about population means when the sample size is small and the population standard deviation is unknown.\n"
   ]
  },
  {
   "cell_type": "markdown",
   "id": "ac3fe93f-be6b-4e5c-baa8-5b6161690454",
   "metadata": {},
   "source": [
    "## Q12: What is t-statistic? State the formula for t-statistic."
   ]
  },
  {
   "cell_type": "markdown",
   "id": "a68285e8-264e-4654-b32f-dd307fe1f1a7",
   "metadata": {},
   "source": [
    "The t-statistic is a measure of how many standard errors the sample mean is away from the hypothesized population mean, in units of the estimated standard error. It is used in hypothesis testing to determine if a sample mean is significantly different from a hypothesized population mean.\n",
    "\n",
    "The formula for the t-statistic is:\n",
    "\n",
    "t = (x̄ - μ) / (s / √n)\n",
    "\n",
    "Where:\n",
    "\n",
    "\n",
    "    x̄ is the sample mean\n",
    "\n",
    "    μ is the hypothesized population mean\n",
    "\n",
    "    s is the sample standard deviation\n",
    "\n",
    "    n is the sample size\n",
    "\n",
    "    √n is the square root of the sample size\n",
    "\n",
    "    The t-statistic is calculated by taking the difference between the sample mean and the hypothesized population mean, and dividing it by the estimated standard error of the sample mean. The estimated standard error is calculated by dividing the sample standard deviation by the square root of the sample size.\n",
    "\n",
    "\n",
    "    The t-statistic follows a t-distribution with n-1 degrees of freedom. By comparing the calculated t-statistic to a t-distribution table or using a statistical software to calculate the p-value, we can determine the probability of obtaining the observed t-statistic under the null hypothesis that the population mean is equal to the hypothesized value. If the probability is very low, typically less than 0.05, we reject the null hypothesis and conclude that the sample mean is significantly different from the hypothesized population mean.\n",
    "\n",
    "\n",
    "\n"
   ]
  },
  {
   "cell_type": "markdown",
   "id": "4eddb0ba-7b91-42f9-8cc3-d2feaea589a9",
   "metadata": {},
   "source": [
    "## Q13. A coffee shop owner wants to estimate the average daily revenue for their shop. They take a random sample of 50 days and find the sample mean revenue to be $500 with a standard  deviation of $50. Estimate the population mean revenue with a 95% confidence interval."
   ]
  },
  {
   "cell_type": "markdown",
   "id": "918d0e8d-22a0-4533-8cff-2b5d827efab2",
   "metadata": {},
   "source": [
    "To estimate the population mean revenue with a 95% confidence interval, we can use the following formula:\n",
    "    \n",
    "    Confidence interval = sample mean ± t*(standard error)\n",
    "\n",
    "    where t* is the critical value from the t-distribution with n-1 degrees of freedom and a 95% confidence level. The standard error is calculated as the sample standard deviation divided by the square root of the sample size.\n",
    "\n",
    "Given:\n",
    "\n",
    "Sample size (n) = 50\n",
    "\n",
    "Sample mean (x̄) = $500\n",
    "\n",
    "Sample standard deviation (s) = $50\n",
    "\n",
    "Confidence level = 95%\n",
    "\n",
    "First, we need to find the critical value from the t-distribution with 49 degrees of freedom and a 95% confidence level. Using a t-distribution table or a statistical software, we find that the critical value is 2.009.\n",
    "\n",
    "Next, we calculate the standard error:\n",
    "\n",
    "Standard error = s / √n = $50 / √50 = $7.07\n",
    "\n",
    "Finally, we can calculate the confidence interval:\n",
    "\n",
    "Confidence interval = $500 ± 2.009 * $7.07 = ($485.37, $514.63)\n",
    "\n",
    "Therefore, we can say with 95% confidence that the population mean revenue for the coffee shop is between $485.37 and $514.63."
   ]
  },
  {
   "cell_type": "code",
   "execution_count": 7,
   "id": "208a3909-0d78-42ae-8f28-c63d0a5f3128",
   "metadata": {},
   "outputs": [
    {
     "name": "stdout",
     "output_type": "stream",
     "text": [
      "Confidence interval: (485.79, 514.21)\n"
     ]
    }
   ],
   "source": [
    "import numpy as np\n",
    "from scipy.stats import t\n",
    "\n",
    "# Given data\n",
    "n = 50\n",
    "sample_mean = 500\n",
    "sample_std = 50\n",
    "confidence_level = 0.95\n",
    "\n",
    "# Calculate critical value\n",
    "df = n - 1\n",
    "alpha = 1 - confidence_level\n",
    "t_critical = t.ppf(1 - alpha/2, df)\n",
    "\n",
    "# Calculate standard error\n",
    "se = sample_std / np.sqrt(n)\n",
    "\n",
    "# Calculate confidence interval\n",
    "lower = sample_mean - t_critical * se\n",
    "upper = sample_mean + t_critical * se\n",
    "\n",
    "# Print confidence interval\n",
    "print(\"Confidence interval: ({:.2f}, {:.2f})\".format(lower, upper))\n"
   ]
  },
  {
   "cell_type": "markdown",
   "id": "2d788baf-82fd-4475-807e-565dd81b5cf7",
   "metadata": {},
   "source": [
    "## Q14. A researcher hypothesizes that a new drug will decrease blood pressure by 10 mmHg. They conduct a clinical trial with 100 patients and find that the sample mean decrease in blood pressure is 8 mmHg with a standard deviation of 3 mmHg. Test the hypothesis with a significance level of 0.05."
   ]
  },
  {
   "cell_type": "markdown",
   "id": "b89745fb-6215-4bd6-bc79-5089c3470d12",
   "metadata": {},
   "source": [
    "To test the hypothesis that the new drug decreases blood pressure by 10 mmHg with a significance level of 0.05, we can use a one-sample t-test.\n",
    "\n",
    "The null hypothesis is that the population mean decrease in blood pressure is equal to 10 mmHg, while the alternative hypothesis is that it is less than 10 mmHg.\n",
    "\n",
    "The test statistic is given by:\n",
    "\n",
    "t = (sample mean - hypothesized mean) / (sample standard deviation / sqrt(sample size))\n",
    "\n",
    "where the hypothesized mean is 10 mmHg.\n",
    "\n",
    "The critical value for a one-tailed test with a significance level of 0.05 and 99 degrees of freedom is -1.660.\n",
    "\n",
    "If the test statistic is less than the critical value, we reject the null hypothesis in favor of the alternative hypothesis.\n",
    "\n",
    "\n",
    "\n",
    "\n",
    "Given:\n",
    "\n",
    "Sample size (n) = 100\n",
    "\n",
    "Sample mean (x̄) = 8 mmHg\n",
    "\n",
    "Sample standard deviation (s) = 3 mmHg\n",
    "\n",
    "Hypothesized mean (μ0) = 10 mmHg\n",
    "\n",
    "Significance level = 0.05"
   ]
  },
  {
   "cell_type": "markdown",
   "id": "a04a8e3c-3433-4981-a582-10e86102b7a0",
   "metadata": {},
   "source": [
    "We can calculate the test statistic:\n",
    "\n",
    "t = (8 - 10) / (3 / sqrt(100)) = -3.33\n",
    "\n",
    "The test statistic is less than the critical value of -1.660, so we reject the null hypothesis.\n",
    "\n",
    "Therefore, we can conclude that there is evidence that the new drug decreases blood pressure by less than 10 mmHg."
   ]
  },
  {
   "cell_type": "code",
   "execution_count": null,
   "id": "af50472b-2ba2-4e73-9283-08cd6e6046b6",
   "metadata": {},
   "outputs": [],
   "source": [
    "import numpy as np\n",
    "from scipy.stats import t\n",
    "\n",
    "# Given data\n",
    "n = 100\n",
    "sample_mean = 8\n",
    "sample_std = 3\n",
    "hypothesized_mean = 10\n",
    "alpha = 0.05\n",
    "\n",
    "# Calculate test statistic\n",
    "t_stat = (sample_mean - hypothesized_mean) / (sample_std / np.sqrt(n))"
   ]
  },
  {
   "cell_type": "code",
   "execution_count": 9,
   "id": "c2b1a413-7279-4f42-8919-4816bea152a8",
   "metadata": {},
   "outputs": [
    {
     "data": {
      "text/plain": [
       "7.0710678118654755"
      ]
     },
     "execution_count": 9,
     "metadata": {},
     "output_type": "execute_result"
    }
   ],
   "source": [
    "np.sqrt(n)"
   ]
  },
  {
   "cell_type": "code",
   "execution_count": 1,
   "id": "c4f85db8-07e0-4c27-bf27-cc663aae8a4d",
   "metadata": {},
   "outputs": [
    {
     "name": "stdout",
     "output_type": "stream",
     "text": [
      "Test statistic: -6.67\n",
      "Critical value: -1.66\n",
      "p-value: 0.0000\n",
      "Reject null hypothesis\n"
     ]
    }
   ],
   "source": [
    "import numpy as np\n",
    "from scipy.stats import t\n",
    "\n",
    "# Given data\n",
    "n = 100\n",
    "sample_mean = 8\n",
    "sample_std = 3\n",
    "hypothesized_mean = 10\n",
    "alpha = 0.05\n",
    "\n",
    "# Calculate test statistic\n",
    "t_stat = (sample_mean - hypothesized_mean) / (sample_std / np.sqrt(n))\n",
    "\n",
    "# Calculate critical value\n",
    "df = n - 1\n",
    "t_critical = t.ppf(alpha, df)\n",
    "\n",
    "# Determine p-value\n",
    "p_value = t.sf(np.abs(t_stat), df)\n",
    "\n",
    "# Print results\n",
    "print(\"Test statistic: {:.2f}\".format(t_stat))\n",
    "print(\"Critical value: {:.2f}\".format(t_critical))\n",
    "print(\"p-value: {:.4f}\".format(p_value))\n",
    "\n",
    "if t_stat < t_critical:\n",
    "    print(\"Reject null hypothesis\")\n",
    "else:\n",
    "    print(\"Fail to reject null hypothesis\")\n"
   ]
  },
  {
   "cell_type": "markdown",
   "id": "2baad448-3d2a-4fcb-8539-7cb723775bd6",
   "metadata": {},
   "source": [
    "## Q15. An electronics company produces a certain type of product with a mean weight of 5 pounds and a standard deviation of 0.5 pounds. A random sample of 25 products is taken, and the sample mean weight is found to be 4.8 pounds. Test the hypothesis that the true mean weight of the products is less than 5 pounds with a significance level of 0.01."
   ]
  },
  {
   "cell_type": "markdown",
   "id": "da43ae0d-9bba-4100-9851-f8d2ac673b53",
   "metadata": {},
   "source": [
    "Significance level = 0.01\n",
    "\n",
    "Degree of freedom = 25 - 1 = 24 #(formula Degree of Freedom df = n-1)\n",
    "\n",
    "t-statistics can be calculated as:\n",
    "    \n",
    "    t = (sample_mean - population_mean) / (sample_standard_error)\n",
    "    \n",
    "    sample_mean = 4.8\n",
    "    population_mean = 5\n",
    "    sample_standard_deviation = 0.5\n",
    "    sample_size = 25\n",
    "    \n",
    "    sample_standard_error = sample_standard_deviation / sqrt(sample_size)\n",
    "    \n",
    "    # value input\n",
    "    sample_standard_error = 0.5 / sqrt(25) = 0.1\n",
    "    \n",
    "    t =(4.8 - 5) / 0.1 = -2"
   ]
  },
  {
   "cell_type": "code",
   "execution_count": 2,
   "id": "2e87845f-82ba-4c1c-9019-ef41e6049de3",
   "metadata": {},
   "outputs": [
    {
     "name": "stdout",
     "output_type": "stream",
     "text": [
      "Fail to reject null hypothesis\n"
     ]
    }
   ],
   "source": [
    "import scipy.stats as stats\n",
    "\n",
    "sample_mean = 4.8\n",
    "pop_mean = 5\n",
    "sample_std = 0.5\n",
    "sample_size = 25\n",
    "significance_level = 0.01\n",
    "\n",
    "t = (sample_mean - pop_mean) / (sample_std / (sample_size ** 0.5))\n",
    "\n",
    "p_value = stats.t.sf(abs(t), sample_size - 1)\n",
    "\n",
    "if p_value < significance_level:\n",
    "    print(\"Reject null hypothesis\")\n",
    "else:\n",
    "    print(\"Fail to reject null hypothesis\")"
   ]
  },
  {
   "cell_type": "code",
   "execution_count": 3,
   "id": "352d9e62-16d7-4089-9a79-3c0be057b01d",
   "metadata": {},
   "outputs": [
    {
     "name": "stdout",
     "output_type": "stream",
     "text": [
      "Fail to reject null hypothesis\n"
     ]
    }
   ],
   "source": [
    "import scipy.stats as stats\n",
    "\n",
    "sample_mean = 4.8\n",
    "pop_mean = 5\n",
    "sample_std = 0.5\n",
    "sample_size = 25\n",
    "significance_level = 0.01\n",
    "\n",
    "# Calculate the t-statistic\n",
    "t = (sample_mean - pop_mean) / (sample_std / (sample_size ** 0.5))\n",
    "\n",
    "# Find the p-value\n",
    "p_value = stats.t.sf(abs(t), sample_size - 1)\n",
    "\n",
    "# Compare p-value with significance level\n",
    "if p_value < significance_level:\n",
    "    print(\"Reject null hypothesis\")\n",
    "else:\n",
    "    print(\"Fail to reject null hypothesis\")"
   ]
  },
  {
   "cell_type": "markdown",
   "id": "0786b270-de8c-4d4e-8f42-c62ab825bf29",
   "metadata": {},
   "source": [
    "## Q16. Two groups of students are given different study materials to prepare for a test. The first group (n1 =30) has a mean score of 80 with a standard deviation of 10, and the second group (n2 = 40) has a mean score of 75 with a standard deviation of 8. Test the hypothesis that the population means for the two groups are equal with a significance level of 0.01."
   ]
  },
  {
   "cell_type": "markdown",
   "id": "955019a9-a508-449b-b18d-3d90576fe869",
   "metadata": {},
   "source": [
    "To test the hypothesis that the population means for the two groups are equal, we can use the two-sample t-test for independent samples. \n",
    "\n",
    "Here's how we can do it using Python:"
   ]
  },
  {
   "cell_type": "code",
   "execution_count": 5,
   "id": "02d210c9-ca0e-493c-a226-62649d66ca1e",
   "metadata": {},
   "outputs": [
    {
     "name": "stdout",
     "output_type": "stream",
     "text": [
      "Fail to reject null hypothesis\n"
     ]
    }
   ],
   "source": [
    "import scipy.stats as stats\n",
    "\n",
    "# Given data\n",
    "n1 = 30\n",
    "mean1 = 80\n",
    "std1 = 10\n",
    "\n",
    "n2 = 40\n",
    "mean2 = 75\n",
    "std2 = 8\n",
    "\n",
    "alpha = 0.01\n",
    "\n",
    "# Calculate the t-statistic and p-value\n",
    "t_statistic, p_value = stats.ttest_ind_from_stats(mean1, std1, n1, mean2, std2, n2, equal_var=True)\n",
    "\n",
    "# Compare p-value with significance level\n",
    "if p_value < alpha:\n",
    "    print(\"Reject null hypothesis\")\n",
    "else:\n",
    "    print(\"Fail to reject null hypothesis\")\n"
   ]
  },
  {
   "cell_type": "markdown",
   "id": "8151fb20-c8d1-41f3-abf0-2319c30aacaf",
   "metadata": {},
   "source": [
    "## Q17. A marketing company wants to estimate the average number of ads watched by viewers during a TV program. They take a random sample of 50 viewers and find that the sample mean is 4 with a standard deviation of 1.5. Estimate the population mean with a 99% confidence interval."
   ]
  },
  {
   "cell_type": "code",
   "execution_count": 6,
   "id": "955b2bd3-46bc-41ac-b63a-d61235ebdd00",
   "metadata": {},
   "outputs": [
    {
     "name": "stdout",
     "output_type": "stream",
     "text": [
      "The population mean lies between (3.4314963358572577, 4.568503664142742) with 99% confidence.\n"
     ]
    }
   ],
   "source": [
    "import scipy.stats as stats\n",
    "\n",
    "# Given data\n",
    "n = 50\n",
    "sample_mean = 4\n",
    "std = 1.5\n",
    "alpha = 0.01\n",
    "\n",
    "# Calculate the critical value for t-distribution\n",
    "t_critical = stats.t.ppf(1 - alpha/2, df=n-1)\n",
    "\n",
    "# Calculate the margin of error\n",
    "margin_of_error = t_critical * (std / (n ** 0.5))\n",
    "\n",
    "# Calculate the confidence interval\n",
    "confidence_interval = (sample_mean - margin_of_error, sample_mean + margin_of_error)\n",
    "\n",
    "# Print the results\n",
    "print(\"The population mean lies between\", confidence_interval, \"with 99% confidence.\")"
   ]
  },
  {
   "cell_type": "code",
   "execution_count": null,
   "id": "456bc594-5c00-4a5c-ac9c-534c89438231",
   "metadata": {},
   "outputs": [],
   "source": []
  }
 ],
 "metadata": {
  "kernelspec": {
   "display_name": "Python 3 (ipykernel)",
   "language": "python",
   "name": "python3"
  },
  "language_info": {
   "codemirror_mode": {
    "name": "ipython",
    "version": 3
   },
   "file_extension": ".py",
   "mimetype": "text/x-python",
   "name": "python",
   "nbconvert_exporter": "python",
   "pygments_lexer": "ipython3",
   "version": "3.10.8"
  }
 },
 "nbformat": 4,
 "nbformat_minor": 5
}
