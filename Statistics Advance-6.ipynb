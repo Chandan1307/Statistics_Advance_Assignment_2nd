{
 "cells": [
  {
   "cell_type": "markdown",
   "id": "ad44ba1d-efce-4c49-b069-e8807f6bcf75",
   "metadata": {},
   "source": [
    "## Analysis oF Variance (ANOVA)"
   ]
  },
  {
   "cell_type": "markdown",
   "id": "ba7f2f18-b67b-40a2-93bb-7eb29aca0129",
   "metadata": {},
   "source": [
    "## Q1. Explain the assumptions required to use ANOVA and provide examples of violations that could impact the validity of the results."
   ]
  },
  {
   "cell_type": "markdown",
   "id": "e58374d3-2a7a-4789-8e26-1efd198dc74b",
   "metadata": {},
   "source": [
    "1. Normality of Sampling Distribution of means the distribution of sample mean is normaly distributed.\n",
    "\n",
    "2. Absence of Outliers\n",
    "   Outliying score need to be removed from dataset.\n",
    "    \n",
    "3. Homogently of variance\n",
    "   Each one of the population has same variance. Population Variance in different of each independent variable are equal.\n",
    "   \n",
    "4. Samples are independent and random."
   ]
  },
  {
   "cell_type": "markdown",
   "id": "3bff9124-b64a-49bf-98e3-2ed7e22c0093",
   "metadata": {},
   "source": [
    "ANOVA (Analysis of Variance) is a statistical technique used to compare means of three or more groups. The following are the assumptions required to use ANOVA:\n",
    "\n",
    "1. Independence: The observations within each group should be independent of each other.\n",
    "\n",
    "2. Normality: The data within each group should follow a normal distribution.\n",
    "\n",
    "3. Homogeneity of variance: The variance within each group should be equal.\n",
    "\n",
    "Examples of violations that could impact the validity of the results are:\n",
    "\n",
    "1. Violation of Independence Assumption: If observations within a group are not independent of each other, then ANOVA may produce inaccurate results. For example, if the same group of people is tested repeatedly over time, then the observations within each group are not independent.\n",
    "\n",
    "2. Violation of Normality Assumption: If the data within each group does not follow a normal distribution, then ANOVA may produce inaccurate results. For example, if a sample size is too small or there are extreme outliers in the data, then the normality assumption may be violated.\n",
    "\n",
    "3. Violation of Homogeneity of Variance Assumption: If the variance within each group is not equal, then ANOVA may produce inaccurate results. For example, if one group has a much larger variance than the others, then the homogeneity of variance assumption may be violated.\n",
    "\n",
    "It is important to check for these assumptions before using ANOVA, and if any are violated, it may be necessary to use alternative statistical techniques."
   ]
  },
  {
   "cell_type": "markdown",
   "id": "d55b8ba8-9a24-4863-babd-261999178210",
   "metadata": {},
   "source": [
    "## Q2. What are the three types of ANOVA, and in what situations would each be used?"
   ]
  },
  {
   "cell_type": "markdown",
   "id": "2943c5f0-6d5e-40de-9bff-6341bf37bf9c",
   "metadata": {},
   "source": [
    "The three types of ANOVA are:\n",
    "\n",
    "ONE WAY ANOVA: One factor with atleast 2 levels, these levels are independent.\n",
    "\n",
    "1. One-way ANOVA: It is used to test the hypothesis that there are no significant differences between the means of two or more independent groups. This is commonly used when a single    factor (independent variable) is being tested across multiple groups.\n",
    "\n",
    "Repeated Measures Anova: One factor with atleast 2 levels, level are dependents.\n",
    "\n",
    "2. Two-way ANOVA: It is used to test the hypothesis that there are no significant interactions between two factors (independent variables) on the dependent variable. This is commonly used when there are two factors being tested and their interaction effects are of interest.\n",
    "\n",
    "\n",
    "Factorial Anova: Two or More factors(each of which with atleast 2 levels), levels can be either independent and dependent.\n",
    "\n",
    "3. N-way ANOVA: It is used when there are more than two factors being tested and their interactions on the dependent variable are of interest. The number of factors being tested determines the \"N\" in N-way ANOVA.\n",
    "\n",
    "The choice of ANOVA depends on the research question and the design of the study. If the study involves only one factor being tested, then one-way ANOVA can be used. If there are multiple factors being tested, then two-way or N-way ANOVA may be more appropriate. It is important to choose the right type of ANOVA to answer the research question accurately.\n"
   ]
  },
  {
   "cell_type": "markdown",
   "id": "7ac3cbcd-ad07-4d57-bf15-9fdab54955ba",
   "metadata": {},
   "source": [
    "## Q3. What is the partitioning of variance in ANOVA, and why is it important to understand this concept?"
   ]
  },
  {
   "cell_type": "markdown",
   "id": "000feee1-ebad-4637-99e7-9c355fb3b38d",
   "metadata": {},
   "source": [
    "Partitioning of variance in ANOVA refers to the process of decomposing the total variation observed in a dataset into different components that are associated with specific sources of variation. \n",
    "In ANOVA, the total variance of the dependent variable is partitioned into two types of variance: \n",
    "1. between-group variance \n",
    "\n",
    "2. within-group variance.\n",
    "\n",
    "Between-group variance refers to the variation in the dependent variable that is attributable to the differences between the groups being compared in the study. It reflects the extent to which the means of the groups differ from each other. Within-group variance refers to the variation in the dependent variable that is due to the differences within each group, and it reflects the variability of the data within each group.\n",
    "\n",
    "The partitioning of variance is important because it allows us to determine the relative contributions of the different sources of variation to the total variation in the data. By comparing the between-group variance to the within-group variance, we can determine if there is a statistically significant difference between the means of the groups being compared. This helps us to draw conclusions about the effects of the independent variable on the dependent variable, and to make valid inferences about the population means.\n",
    "\n",
    "\n",
    "Moreover, understanding the partitioning of variance can help us to identify potential sources of error or bias in our study. For example, if a large proportion of the total variance is due to within-group variance, this may indicate that the groups are not homogeneous and that there may be confounding variables affecting the results. By understanding the partitioning of variance, we can make more accurate and reliable conclusions about our data.\n"
   ]
  },
  {
   "cell_type": "markdown",
   "id": "9b2debca-f9b1-4b2f-8a4a-646a2c9bcec0",
   "metadata": {},
   "source": [
    "## Q4. How would you calculate the total sum of squares (SST), explained sum of squares (SSE), and residual sum of squares (SSR) in a one-way ANOVA using Python?"
   ]
  },
  {
   "cell_type": "code",
   "execution_count": 1,
   "id": "bf52a887-d9c2-4bff-8734-9f0244d0e555",
   "metadata": {},
   "outputs": [
    {
     "ename": "FileNotFoundError",
     "evalue": "[Errno 2] No such file or directory: 'data.csv'",
     "output_type": "error",
     "traceback": [
      "\u001b[0;31m---------------------------------------------------------------------------\u001b[0m",
      "\u001b[0;31mFileNotFoundError\u001b[0m                         Traceback (most recent call last)",
      "Cell \u001b[0;32mIn[1], line 6\u001b[0m\n\u001b[1;32m      3\u001b[0m \u001b[38;5;28;01mfrom\u001b[39;00m \u001b[38;5;21;01mstatsmodels\u001b[39;00m\u001b[38;5;21;01m.\u001b[39;00m\u001b[38;5;21;01mformula\u001b[39;00m\u001b[38;5;21;01m.\u001b[39;00m\u001b[38;5;21;01mapi\u001b[39;00m \u001b[38;5;28;01mimport\u001b[39;00m ols\n\u001b[1;32m      5\u001b[0m \u001b[38;5;66;03m# load data\u001b[39;00m\n\u001b[0;32m----> 6\u001b[0m data \u001b[38;5;241m=\u001b[39m \u001b[43mpd\u001b[49m\u001b[38;5;241;43m.\u001b[39;49m\u001b[43mread_csv\u001b[49m\u001b[43m(\u001b[49m\u001b[38;5;124;43m'\u001b[39;49m\u001b[38;5;124;43mdata.csv\u001b[39;49m\u001b[38;5;124;43m'\u001b[39;49m\u001b[43m)\u001b[49m\n\u001b[1;32m      8\u001b[0m \u001b[38;5;66;03m# Fit one-way ANOVA model\u001b[39;00m\n\u001b[1;32m      9\u001b[0m model \u001b[38;5;241m=\u001b[39m ols(\u001b[38;5;124m'\u001b[39m\u001b[38;5;124mresponse ~ group\u001b[39m\u001b[38;5;124m'\u001b[39m, data\u001b[38;5;241m=\u001b[39mdata)\u001b[38;5;241m.\u001b[39mfit()\n",
      "File \u001b[0;32m/opt/conda/lib/python3.10/site-packages/pandas/util/_decorators.py:211\u001b[0m, in \u001b[0;36mdeprecate_kwarg.<locals>._deprecate_kwarg.<locals>.wrapper\u001b[0;34m(*args, **kwargs)\u001b[0m\n\u001b[1;32m    209\u001b[0m     \u001b[38;5;28;01melse\u001b[39;00m:\n\u001b[1;32m    210\u001b[0m         kwargs[new_arg_name] \u001b[38;5;241m=\u001b[39m new_arg_value\n\u001b[0;32m--> 211\u001b[0m \u001b[38;5;28;01mreturn\u001b[39;00m \u001b[43mfunc\u001b[49m\u001b[43m(\u001b[49m\u001b[38;5;241;43m*\u001b[39;49m\u001b[43margs\u001b[49m\u001b[43m,\u001b[49m\u001b[43m \u001b[49m\u001b[38;5;241;43m*\u001b[39;49m\u001b[38;5;241;43m*\u001b[39;49m\u001b[43mkwargs\u001b[49m\u001b[43m)\u001b[49m\n",
      "File \u001b[0;32m/opt/conda/lib/python3.10/site-packages/pandas/util/_decorators.py:331\u001b[0m, in \u001b[0;36mdeprecate_nonkeyword_arguments.<locals>.decorate.<locals>.wrapper\u001b[0;34m(*args, **kwargs)\u001b[0m\n\u001b[1;32m    325\u001b[0m \u001b[38;5;28;01mif\u001b[39;00m \u001b[38;5;28mlen\u001b[39m(args) \u001b[38;5;241m>\u001b[39m num_allow_args:\n\u001b[1;32m    326\u001b[0m     warnings\u001b[38;5;241m.\u001b[39mwarn(\n\u001b[1;32m    327\u001b[0m         msg\u001b[38;5;241m.\u001b[39mformat(arguments\u001b[38;5;241m=\u001b[39m_format_argument_list(allow_args)),\n\u001b[1;32m    328\u001b[0m         \u001b[38;5;167;01mFutureWarning\u001b[39;00m,\n\u001b[1;32m    329\u001b[0m         stacklevel\u001b[38;5;241m=\u001b[39mfind_stack_level(),\n\u001b[1;32m    330\u001b[0m     )\n\u001b[0;32m--> 331\u001b[0m \u001b[38;5;28;01mreturn\u001b[39;00m \u001b[43mfunc\u001b[49m\u001b[43m(\u001b[49m\u001b[38;5;241;43m*\u001b[39;49m\u001b[43margs\u001b[49m\u001b[43m,\u001b[49m\u001b[43m \u001b[49m\u001b[38;5;241;43m*\u001b[39;49m\u001b[38;5;241;43m*\u001b[39;49m\u001b[43mkwargs\u001b[49m\u001b[43m)\u001b[49m\n",
      "File \u001b[0;32m/opt/conda/lib/python3.10/site-packages/pandas/io/parsers/readers.py:950\u001b[0m, in \u001b[0;36mread_csv\u001b[0;34m(filepath_or_buffer, sep, delimiter, header, names, index_col, usecols, squeeze, prefix, mangle_dupe_cols, dtype, engine, converters, true_values, false_values, skipinitialspace, skiprows, skipfooter, nrows, na_values, keep_default_na, na_filter, verbose, skip_blank_lines, parse_dates, infer_datetime_format, keep_date_col, date_parser, dayfirst, cache_dates, iterator, chunksize, compression, thousands, decimal, lineterminator, quotechar, quoting, doublequote, escapechar, comment, encoding, encoding_errors, dialect, error_bad_lines, warn_bad_lines, on_bad_lines, delim_whitespace, low_memory, memory_map, float_precision, storage_options)\u001b[0m\n\u001b[1;32m    935\u001b[0m kwds_defaults \u001b[38;5;241m=\u001b[39m _refine_defaults_read(\n\u001b[1;32m    936\u001b[0m     dialect,\n\u001b[1;32m    937\u001b[0m     delimiter,\n\u001b[0;32m   (...)\u001b[0m\n\u001b[1;32m    946\u001b[0m     defaults\u001b[38;5;241m=\u001b[39m{\u001b[38;5;124m\"\u001b[39m\u001b[38;5;124mdelimiter\u001b[39m\u001b[38;5;124m\"\u001b[39m: \u001b[38;5;124m\"\u001b[39m\u001b[38;5;124m,\u001b[39m\u001b[38;5;124m\"\u001b[39m},\n\u001b[1;32m    947\u001b[0m )\n\u001b[1;32m    948\u001b[0m kwds\u001b[38;5;241m.\u001b[39mupdate(kwds_defaults)\n\u001b[0;32m--> 950\u001b[0m \u001b[38;5;28;01mreturn\u001b[39;00m \u001b[43m_read\u001b[49m\u001b[43m(\u001b[49m\u001b[43mfilepath_or_buffer\u001b[49m\u001b[43m,\u001b[49m\u001b[43m \u001b[49m\u001b[43mkwds\u001b[49m\u001b[43m)\u001b[49m\n",
      "File \u001b[0;32m/opt/conda/lib/python3.10/site-packages/pandas/io/parsers/readers.py:605\u001b[0m, in \u001b[0;36m_read\u001b[0;34m(filepath_or_buffer, kwds)\u001b[0m\n\u001b[1;32m    602\u001b[0m _validate_names(kwds\u001b[38;5;241m.\u001b[39mget(\u001b[38;5;124m\"\u001b[39m\u001b[38;5;124mnames\u001b[39m\u001b[38;5;124m\"\u001b[39m, \u001b[38;5;28;01mNone\u001b[39;00m))\n\u001b[1;32m    604\u001b[0m \u001b[38;5;66;03m# Create the parser.\u001b[39;00m\n\u001b[0;32m--> 605\u001b[0m parser \u001b[38;5;241m=\u001b[39m \u001b[43mTextFileReader\u001b[49m\u001b[43m(\u001b[49m\u001b[43mfilepath_or_buffer\u001b[49m\u001b[43m,\u001b[49m\u001b[43m \u001b[49m\u001b[38;5;241;43m*\u001b[39;49m\u001b[38;5;241;43m*\u001b[39;49m\u001b[43mkwds\u001b[49m\u001b[43m)\u001b[49m\n\u001b[1;32m    607\u001b[0m \u001b[38;5;28;01mif\u001b[39;00m chunksize \u001b[38;5;129;01mor\u001b[39;00m iterator:\n\u001b[1;32m    608\u001b[0m     \u001b[38;5;28;01mreturn\u001b[39;00m parser\n",
      "File \u001b[0;32m/opt/conda/lib/python3.10/site-packages/pandas/io/parsers/readers.py:1442\u001b[0m, in \u001b[0;36mTextFileReader.__init__\u001b[0;34m(self, f, engine, **kwds)\u001b[0m\n\u001b[1;32m   1439\u001b[0m     \u001b[38;5;28mself\u001b[39m\u001b[38;5;241m.\u001b[39moptions[\u001b[38;5;124m\"\u001b[39m\u001b[38;5;124mhas_index_names\u001b[39m\u001b[38;5;124m\"\u001b[39m] \u001b[38;5;241m=\u001b[39m kwds[\u001b[38;5;124m\"\u001b[39m\u001b[38;5;124mhas_index_names\u001b[39m\u001b[38;5;124m\"\u001b[39m]\n\u001b[1;32m   1441\u001b[0m \u001b[38;5;28mself\u001b[39m\u001b[38;5;241m.\u001b[39mhandles: IOHandles \u001b[38;5;241m|\u001b[39m \u001b[38;5;28;01mNone\u001b[39;00m \u001b[38;5;241m=\u001b[39m \u001b[38;5;28;01mNone\u001b[39;00m\n\u001b[0;32m-> 1442\u001b[0m \u001b[38;5;28mself\u001b[39m\u001b[38;5;241m.\u001b[39m_engine \u001b[38;5;241m=\u001b[39m \u001b[38;5;28;43mself\u001b[39;49m\u001b[38;5;241;43m.\u001b[39;49m\u001b[43m_make_engine\u001b[49m\u001b[43m(\u001b[49m\u001b[43mf\u001b[49m\u001b[43m,\u001b[49m\u001b[43m \u001b[49m\u001b[38;5;28;43mself\u001b[39;49m\u001b[38;5;241;43m.\u001b[39;49m\u001b[43mengine\u001b[49m\u001b[43m)\u001b[49m\n",
      "File \u001b[0;32m/opt/conda/lib/python3.10/site-packages/pandas/io/parsers/readers.py:1735\u001b[0m, in \u001b[0;36mTextFileReader._make_engine\u001b[0;34m(self, f, engine)\u001b[0m\n\u001b[1;32m   1733\u001b[0m     \u001b[38;5;28;01mif\u001b[39;00m \u001b[38;5;124m\"\u001b[39m\u001b[38;5;124mb\u001b[39m\u001b[38;5;124m\"\u001b[39m \u001b[38;5;129;01mnot\u001b[39;00m \u001b[38;5;129;01min\u001b[39;00m mode:\n\u001b[1;32m   1734\u001b[0m         mode \u001b[38;5;241m+\u001b[39m\u001b[38;5;241m=\u001b[39m \u001b[38;5;124m\"\u001b[39m\u001b[38;5;124mb\u001b[39m\u001b[38;5;124m\"\u001b[39m\n\u001b[0;32m-> 1735\u001b[0m \u001b[38;5;28mself\u001b[39m\u001b[38;5;241m.\u001b[39mhandles \u001b[38;5;241m=\u001b[39m \u001b[43mget_handle\u001b[49m\u001b[43m(\u001b[49m\n\u001b[1;32m   1736\u001b[0m \u001b[43m    \u001b[49m\u001b[43mf\u001b[49m\u001b[43m,\u001b[49m\n\u001b[1;32m   1737\u001b[0m \u001b[43m    \u001b[49m\u001b[43mmode\u001b[49m\u001b[43m,\u001b[49m\n\u001b[1;32m   1738\u001b[0m \u001b[43m    \u001b[49m\u001b[43mencoding\u001b[49m\u001b[38;5;241;43m=\u001b[39;49m\u001b[38;5;28;43mself\u001b[39;49m\u001b[38;5;241;43m.\u001b[39;49m\u001b[43moptions\u001b[49m\u001b[38;5;241;43m.\u001b[39;49m\u001b[43mget\u001b[49m\u001b[43m(\u001b[49m\u001b[38;5;124;43m\"\u001b[39;49m\u001b[38;5;124;43mencoding\u001b[39;49m\u001b[38;5;124;43m\"\u001b[39;49m\u001b[43m,\u001b[49m\u001b[43m \u001b[49m\u001b[38;5;28;43;01mNone\u001b[39;49;00m\u001b[43m)\u001b[49m\u001b[43m,\u001b[49m\n\u001b[1;32m   1739\u001b[0m \u001b[43m    \u001b[49m\u001b[43mcompression\u001b[49m\u001b[38;5;241;43m=\u001b[39;49m\u001b[38;5;28;43mself\u001b[39;49m\u001b[38;5;241;43m.\u001b[39;49m\u001b[43moptions\u001b[49m\u001b[38;5;241;43m.\u001b[39;49m\u001b[43mget\u001b[49m\u001b[43m(\u001b[49m\u001b[38;5;124;43m\"\u001b[39;49m\u001b[38;5;124;43mcompression\u001b[39;49m\u001b[38;5;124;43m\"\u001b[39;49m\u001b[43m,\u001b[49m\u001b[43m \u001b[49m\u001b[38;5;28;43;01mNone\u001b[39;49;00m\u001b[43m)\u001b[49m\u001b[43m,\u001b[49m\n\u001b[1;32m   1740\u001b[0m \u001b[43m    \u001b[49m\u001b[43mmemory_map\u001b[49m\u001b[38;5;241;43m=\u001b[39;49m\u001b[38;5;28;43mself\u001b[39;49m\u001b[38;5;241;43m.\u001b[39;49m\u001b[43moptions\u001b[49m\u001b[38;5;241;43m.\u001b[39;49m\u001b[43mget\u001b[49m\u001b[43m(\u001b[49m\u001b[38;5;124;43m\"\u001b[39;49m\u001b[38;5;124;43mmemory_map\u001b[39;49m\u001b[38;5;124;43m\"\u001b[39;49m\u001b[43m,\u001b[49m\u001b[43m \u001b[49m\u001b[38;5;28;43;01mFalse\u001b[39;49;00m\u001b[43m)\u001b[49m\u001b[43m,\u001b[49m\n\u001b[1;32m   1741\u001b[0m \u001b[43m    \u001b[49m\u001b[43mis_text\u001b[49m\u001b[38;5;241;43m=\u001b[39;49m\u001b[43mis_text\u001b[49m\u001b[43m,\u001b[49m\n\u001b[1;32m   1742\u001b[0m \u001b[43m    \u001b[49m\u001b[43merrors\u001b[49m\u001b[38;5;241;43m=\u001b[39;49m\u001b[38;5;28;43mself\u001b[39;49m\u001b[38;5;241;43m.\u001b[39;49m\u001b[43moptions\u001b[49m\u001b[38;5;241;43m.\u001b[39;49m\u001b[43mget\u001b[49m\u001b[43m(\u001b[49m\u001b[38;5;124;43m\"\u001b[39;49m\u001b[38;5;124;43mencoding_errors\u001b[39;49m\u001b[38;5;124;43m\"\u001b[39;49m\u001b[43m,\u001b[49m\u001b[43m \u001b[49m\u001b[38;5;124;43m\"\u001b[39;49m\u001b[38;5;124;43mstrict\u001b[39;49m\u001b[38;5;124;43m\"\u001b[39;49m\u001b[43m)\u001b[49m\u001b[43m,\u001b[49m\n\u001b[1;32m   1743\u001b[0m \u001b[43m    \u001b[49m\u001b[43mstorage_options\u001b[49m\u001b[38;5;241;43m=\u001b[39;49m\u001b[38;5;28;43mself\u001b[39;49m\u001b[38;5;241;43m.\u001b[39;49m\u001b[43moptions\u001b[49m\u001b[38;5;241;43m.\u001b[39;49m\u001b[43mget\u001b[49m\u001b[43m(\u001b[49m\u001b[38;5;124;43m\"\u001b[39;49m\u001b[38;5;124;43mstorage_options\u001b[39;49m\u001b[38;5;124;43m\"\u001b[39;49m\u001b[43m,\u001b[49m\u001b[43m \u001b[49m\u001b[38;5;28;43;01mNone\u001b[39;49;00m\u001b[43m)\u001b[49m\u001b[43m,\u001b[49m\n\u001b[1;32m   1744\u001b[0m \u001b[43m\u001b[49m\u001b[43m)\u001b[49m\n\u001b[1;32m   1745\u001b[0m \u001b[38;5;28;01massert\u001b[39;00m \u001b[38;5;28mself\u001b[39m\u001b[38;5;241m.\u001b[39mhandles \u001b[38;5;129;01mis\u001b[39;00m \u001b[38;5;129;01mnot\u001b[39;00m \u001b[38;5;28;01mNone\u001b[39;00m\n\u001b[1;32m   1746\u001b[0m f \u001b[38;5;241m=\u001b[39m \u001b[38;5;28mself\u001b[39m\u001b[38;5;241m.\u001b[39mhandles\u001b[38;5;241m.\u001b[39mhandle\n",
      "File \u001b[0;32m/opt/conda/lib/python3.10/site-packages/pandas/io/common.py:856\u001b[0m, in \u001b[0;36mget_handle\u001b[0;34m(path_or_buf, mode, encoding, compression, memory_map, is_text, errors, storage_options)\u001b[0m\n\u001b[1;32m    851\u001b[0m \u001b[38;5;28;01melif\u001b[39;00m \u001b[38;5;28misinstance\u001b[39m(handle, \u001b[38;5;28mstr\u001b[39m):\n\u001b[1;32m    852\u001b[0m     \u001b[38;5;66;03m# Check whether the filename is to be opened in binary mode.\u001b[39;00m\n\u001b[1;32m    853\u001b[0m     \u001b[38;5;66;03m# Binary mode does not support 'encoding' and 'newline'.\u001b[39;00m\n\u001b[1;32m    854\u001b[0m     \u001b[38;5;28;01mif\u001b[39;00m ioargs\u001b[38;5;241m.\u001b[39mencoding \u001b[38;5;129;01mand\u001b[39;00m \u001b[38;5;124m\"\u001b[39m\u001b[38;5;124mb\u001b[39m\u001b[38;5;124m\"\u001b[39m \u001b[38;5;129;01mnot\u001b[39;00m \u001b[38;5;129;01min\u001b[39;00m ioargs\u001b[38;5;241m.\u001b[39mmode:\n\u001b[1;32m    855\u001b[0m         \u001b[38;5;66;03m# Encoding\u001b[39;00m\n\u001b[0;32m--> 856\u001b[0m         handle \u001b[38;5;241m=\u001b[39m \u001b[38;5;28;43mopen\u001b[39;49m\u001b[43m(\u001b[49m\n\u001b[1;32m    857\u001b[0m \u001b[43m            \u001b[49m\u001b[43mhandle\u001b[49m\u001b[43m,\u001b[49m\n\u001b[1;32m    858\u001b[0m \u001b[43m            \u001b[49m\u001b[43mioargs\u001b[49m\u001b[38;5;241;43m.\u001b[39;49m\u001b[43mmode\u001b[49m\u001b[43m,\u001b[49m\n\u001b[1;32m    859\u001b[0m \u001b[43m            \u001b[49m\u001b[43mencoding\u001b[49m\u001b[38;5;241;43m=\u001b[39;49m\u001b[43mioargs\u001b[49m\u001b[38;5;241;43m.\u001b[39;49m\u001b[43mencoding\u001b[49m\u001b[43m,\u001b[49m\n\u001b[1;32m    860\u001b[0m \u001b[43m            \u001b[49m\u001b[43merrors\u001b[49m\u001b[38;5;241;43m=\u001b[39;49m\u001b[43merrors\u001b[49m\u001b[43m,\u001b[49m\n\u001b[1;32m    861\u001b[0m \u001b[43m            \u001b[49m\u001b[43mnewline\u001b[49m\u001b[38;5;241;43m=\u001b[39;49m\u001b[38;5;124;43m\"\u001b[39;49m\u001b[38;5;124;43m\"\u001b[39;49m\u001b[43m,\u001b[49m\n\u001b[1;32m    862\u001b[0m \u001b[43m        \u001b[49m\u001b[43m)\u001b[49m\n\u001b[1;32m    863\u001b[0m     \u001b[38;5;28;01melse\u001b[39;00m:\n\u001b[1;32m    864\u001b[0m         \u001b[38;5;66;03m# Binary mode\u001b[39;00m\n\u001b[1;32m    865\u001b[0m         handle \u001b[38;5;241m=\u001b[39m \u001b[38;5;28mopen\u001b[39m(handle, ioargs\u001b[38;5;241m.\u001b[39mmode)\n",
      "\u001b[0;31mFileNotFoundError\u001b[0m: [Errno 2] No such file or directory: 'data.csv'"
     ]
    }
   ],
   "source": [
    "import pandas as pd\n",
    "import statsmodels.api as sm\n",
    "from statsmodels.formula.api import ols\n",
    "\n",
    "# load data\n",
    "data = pd.read_csv('data.csv')\n",
    "\n",
    "# Fit one-way ANOVA model\n",
    "model = ols('response ~ group', data=data).fit()\n",
    "\n",
    "# Calculate total sum of square (SST)\n",
    "SST = ((data['response'] - data['response'].mean())**2).sum()\n",
    "\n",
    "# Calculate explained sum of square (SSE)\n",
    "SSE = ((model.fittedvalues - data['response'].mean()**2)).sum()\n",
    "\n",
    "# Calulate residual sum of square (SSR)\n",
    "SSR = ((data['response'] - model.fittedvalues)**2).sum()\n",
    "\n",
    "print('SST:', SST)\n",
    "print('SSE:', SSE)\n",
    "print('SSR:', SSR)"
   ]
  },
  {
   "cell_type": "markdown",
   "id": "3421151b-751d-40ad-bab4-352160be310e",
   "metadata": {},
   "source": [
    "## Q5.In a two-way ANOVA, how would you calculate the main effects and interaction effects using Python?"
   ]
  },
  {
   "cell_type": "code",
   "execution_count": null,
   "id": "72ea8703-1087-41f9-9ce1-4046aa08a0d6",
   "metadata": {},
   "outputs": [],
   "source": [
    "import pandas as pd\n",
    "import statsmodels.api as sm\n",
    "from statsmodels.formula.api import ols\n",
    "\n",
    "# Load the data into a pandas DataFrame\n",
    "data = pd.read_csv('data.csv')\n",
    "\n",
    "# Define the ANOVA model with interaction terms\n",
    "model = ols('response ~ factor1 * factor2', data).fit()\n",
    "\n",
    "# Get the ANOVA table\n",
    "anova_table = sm.stats.anova_lm(model, typ=2)\n",
    "\n",
    "# Calculate the main effects and interaction effects\n",
    "main_effect_1 = anova_table.loc['factor1', 'sum_sq'] / anova_table.loc['Residual', 'sum_sq']\n",
    "main_effect_2 = anova_table.loc['factor2', 'sum_sq'] / anova_table.loc['Residual', 'sum_sq']\n",
    "interaction_effect = anova_table.loc['factor1:factor2', 'sum_sq'] / anova_table.loc['Residual', 'sum_sq']"
   ]
  },
  {
   "cell_type": "markdown",
   "id": "8cca380f-788c-445d-a758-f783be8fe342",
   "metadata": {},
   "source": [
    "## Q6. Suppose you conducted a one-way ANOVA and obtained an F-statistic of 5.23 and a p-value of 0.02.\n",
    "## What can you conclude about the differences between the groups, and how would you interpret these results?"
   ]
  },
  {
   "cell_type": "markdown",
   "id": "d928891f-2b45-4095-9631-9174cb2d4d9a",
   "metadata": {},
   "source": [
    "If a one-way ANOVA produces an F-statistic of 5.23 and a p-value of 0.02, it means that there is significant evidence to reject the null hypothesis that the group means are equal. In other words, at least one group mean is different from the others. However, this result alone does not tell us which group(s) differ from the others.\n",
    "\n",
    "The F-statistic represents the ratio of the variance between groups to the variance within groups. A larger F-statistic means that the variance between groups is larger relative to the variance within groups. The p-value tells us the probability of obtaining an F-statistic as extreme as the one observed if the null hypothesis (that the group means are equal) is true. In this case, the p-value is less than the significance level of 0.05, indicating that the result is statistically significant.\n",
    "\n",
    "To interpret the results, you could report that the one-way ANOVA showed a significant difference between the groups (F(2, 57) = 5.23, p = 0.02), indicating that at least one group mean is different from the others. Further post-hoc tests could be conducted to determine which group(s) differ significantly from the others.\n"
   ]
  },
  {
   "cell_type": "markdown",
   "id": "f98a2e78-bad6-472a-8954-c24592ebe8f0",
   "metadata": {},
   "source": [
    "## Q7. In a repeated measures ANOVA, how would you handle missing data, and what are the potential consequences of using different methods to handle missing data?"
   ]
  },
  {
   "cell_type": "markdown",
   "id": "9a36d7f6-7d3e-4bcb-9a21-b99f2eb1a42a",
   "metadata": {},
   "source": [
    "In a repeated measures ANOVA, missing data can be handled using various methods, including listwise deletion, pairwise deletion, mean substitution, and maximum likelihood estimation. Each method has its advantages and disadvantages, and the choice of method depends on the nature of the missing data and the research question.\n",
    "\n",
    "Listwise deletion involves removing any participant with missing data, resulting in a smaller sample size. This method can potentially bias the results if the missing data are not missing at random and may reduce the statistical power of the analysis.\n",
    "\n",
    "Pairwise deletion involves using all available data by analyzing each variable separately. However, this method can result in biased estimates of the standard errors and may lead to type I errors.\n",
    "\n",
    "Mean substitution involves replacing missing values with the mean of the available data for that variable. This method assumes that the missing values are missing at random and may introduce bias if the data are not missing at random.\n",
    "\n",
    "Maximum likelihood estimation involves using all available data to estimate the parameters of the model. This method can provide unbiased estimates if the missing data are missing at random but may introduce bias if the data are not missing at random.\n",
    "\n",
    "Overall, it is important to carefully consider the nature of the missing data and choose an appropriate method that is consistent with the assumptions of the analysis.\n"
   ]
  },
  {
   "cell_type": "markdown",
   "id": "17ff5923-c449-4b14-8fd1-c43ffd2f25f6",
   "metadata": {},
   "source": [
    "## Q8. What are some common post-hoc tests used after ANOVA, and when would you use each one? Provide an example of a situation where a post-hoc test might be necessary."
   ]
  },
  {
   "cell_type": "markdown",
   "id": "8ff12fe2-affc-41cd-9e4f-64eed64b0ae6",
   "metadata": {},
   "source": [
    "After conducting an ANOVA, post-hoc tests are often used to determine which specific groups have significant differences. Here are some common post-hoc tests and situations where they may be used:\n",
    "\n",
    "1. Tukey's Honestly Significant Difference (HSD) Test: This test is used to compare all pairs of means and is often used when there are equal sample sizes in each group. It is a conservative test, meaning that it is less likely to detect significant differences unless they are truly present. It is often used in situations where there are multiple groups and the researcher wants to determine which groups are significantly different from each other.\n",
    "\n",
    "2. Bonferroni Correction: This test is used to control for multiple comparisons and is often used when there are unequal sample sizes in each group. It is a more conservative test than Tukey's HSD test and is often used in situations where there are multiple groups and the researcher wants to determine which groups are significantly different from each other while minimizing the chances of false positives.\n",
    "\n",
    "3. Scheffe's Test: This test is used when the number of comparisons is not known in advance and is often used in situations where there are multiple groups and the researcher wants to determine which groups are significantly different from each other while controlling for the overall Type I error rate.\n",
    "\n",
    "A situation where a post-hoc test might be necessary is when an ANOVA finds a significant difference between groups, but the researcher wants to determine which specific groups are significantly different from each other. For example, in a study comparing the effectiveness of three different medications for treating a specific condition, an ANOVA might find a significant difference between the three groups. A post-hoc test could be used to determine which specific medications are significantly different from each other.\n"
   ]
  },
  {
   "cell_type": "markdown",
   "id": "ade77982-3c55-46d9-8cd3-095789023d0e",
   "metadata": {},
   "source": [
    "## Q9. A researcher wants to compare the mean weight loss of three diets: A, B, and C. They collect data from 50 participants who were randomly assigned to one of the diets. Conduct a one-way ANOVA using Python to determine if there are any significant differences between the mean weight loss of the three diets. Report the F-statistic and p-value, and interpret the results."
   ]
  },
  {
   "cell_type": "code",
   "execution_count": 3,
   "id": "d5cd5054-c5b9-4500-be89-9ea87d6b2879",
   "metadata": {},
   "outputs": [
    {
     "name": "stdout",
     "output_type": "stream",
     "text": [
      "F-statistic: 3.9902823798175473\n",
      "p-value: 0.020532745579574834\n"
     ]
    }
   ],
   "source": [
    "import numpy as np\n",
    "from scipy.stats import f_oneway\n",
    "\n",
    "# Generate some sample weight loss data\n",
    "diet_a = np.random.normal(loc=5, scale=2, size=50)\n",
    "diet_b = np.random.normal(loc=6, scale=3, size=50)\n",
    "diet_c = np.random.normal(loc=4, scale=1.5, size=50)\n",
    "\n",
    "# Conduct one-way ANOVA\n",
    "f_stat, p_val = f_oneway(diet_a, diet_b, diet_c)\n",
    "\n",
    "# Print results\n",
    "print(\"F-statistic:\", f_stat)\n",
    "print(\"p-value:\", p_val)"
   ]
  },
  {
   "cell_type": "markdown",
   "id": "8aedc10c-a2f6-4fbf-886c-0c6a32ec3a6c",
   "metadata": {},
   "source": [
    "## Q10. A company wants to know if there are any significant differences in the average time it takes to complete a task using three different software programs: Program A, Program B, and Program C. They randomly assign 30 employees to one of the programs and record the time it takes each employee to complete the task. Conduct a two-way ANOVA using Python to determine if there are any main effects or interaction effects between the software programs and employee experience level (novice vs.experienced). Report the F-statistics and p-values, and interpret the results."
   ]
  },
  {
   "cell_type": "code",
   "execution_count": 4,
   "id": "d9b4e061-6f96-4582-9de9-23fed90efb40",
   "metadata": {},
   "outputs": [
    {
     "ename": "SyntaxError",
     "evalue": "invalid syntax (1422529035.py, line 7)",
     "output_type": "error",
     "traceback": [
      "\u001b[0;36m  Cell \u001b[0;32mIn[4], line 7\u001b[0;36m\u001b[0m\n\u001b[0;31m    'Program': ['A']*10 + ['B']*10 + ['C']*10,\u001b[0m\n\u001b[0m             ^\u001b[0m\n\u001b[0;31mSyntaxError\u001b[0m\u001b[0;31m:\u001b[0m invalid syntax\n"
     ]
    }
   ],
   "source": [
    "import pandas as pd\n",
    "import statsmodels.api as sm\n",
    "from statsmodels.formula.api import ols\n",
    "\n",
    "# create a dataframe with the given data\n",
    "data = {[[\n",
    "    'Program': ['A']*10 + ['B']*10 + ['C']*10,\n",
    "    'Experience': ['Novice']*15 + ['Experienced']*15,\n",
    "    'Time': [23, 25, 22, 26, 28, 30, 29, 27, 24, 25,\n",
    "             30, 32, 27, 29, 31, 28, 26, 25, 29, 28,\n",
    "             32, 34, 30, 31, 29, 27, 25, 28, 30, 26,\n",
    "             27, 28, 31, 33, 29, 26, 25, 27, 28, 25,\n",
    "             24, 26, 28, 30, 27, 24, 23, 26, 27, 24]\n",
    "]]}\n",
    "df = pd.DataFrame(data)\n",
    "\n",
    "# create the ANOVA model\n",
    "model = ols('Time ~ C(Program) + C(Experience) + C(Program):C(Experience)', data=df).fit()\n",
    "\n",
    "# print the ANOVA table\n",
    "anova_table = sm.stats.anova_lm(model, typ=2)\n",
    "print(anova_table)"
   ]
  },
  {
   "cell_type": "markdown",
   "id": "c3292d5f-dac1-459e-b81f-1fb8f29c377e",
   "metadata": {},
   "source": [
    "## Q11. An educational researcher is interested in whether a new teaching method improves student test scores. They randomly assign 100 students to either the control group (traditional teaching method) or the experimental group (new teaching method) and administer a test at the end of the semester. Conduct a two-sample t-test using Python to determine if there are any significant differences in test scores between the two groups. If the results are significant, follow up with a post-hoc test to determine which group(s) differ significantly from each other."
   ]
  },
  {
   "cell_type": "code",
   "execution_count": 7,
   "id": "361b0e32-514c-4fab-988d-aad13011b8ee",
   "metadata": {},
   "outputs": [
    {
     "ename": "ImportError",
     "evalue": "cannot import name 'posthoc_tukey' from 'scipy.stats' (/opt/conda/lib/python3.10/site-packages/scipy/stats/__init__.py)",
     "output_type": "error",
     "traceback": [
      "\u001b[0;31m---------------------------------------------------------------------------\u001b[0m",
      "\u001b[0;31mImportError\u001b[0m                               Traceback (most recent call last)",
      "Cell \u001b[0;32mIn[7], line 3\u001b[0m\n\u001b[1;32m      1\u001b[0m \u001b[38;5;28;01mimport\u001b[39;00m \u001b[38;5;21;01mpandas\u001b[39;00m \u001b[38;5;28;01mas\u001b[39;00m \u001b[38;5;21;01mpd\u001b[39;00m\n\u001b[1;32m      2\u001b[0m \u001b[38;5;28;01mimport\u001b[39;00m \u001b[38;5;21;01mnumpy\u001b[39;00m \u001b[38;5;28;01mas\u001b[39;00m \u001b[38;5;21;01mnp\u001b[39;00m\n\u001b[0;32m----> 3\u001b[0m \u001b[38;5;28;01mfrom\u001b[39;00m \u001b[38;5;21;01mscipy\u001b[39;00m\u001b[38;5;21;01m.\u001b[39;00m\u001b[38;5;21;01mstats\u001b[39;00m \u001b[38;5;28;01mimport\u001b[39;00m ttest_ind, f_oneway, posthoc_tukey\n\u001b[1;32m      4\u001b[0m \u001b[38;5;28;01mimport\u001b[39;00m \u001b[38;5;21;01mpairwise_tukeyhsd\u001b[39;00m\n\u001b[1;32m      6\u001b[0m \u001b[38;5;66;03m# Create a dataframe with the test scores for the control and experimental groups\u001b[39;00m\n",
      "\u001b[0;31mImportError\u001b[0m: cannot import name 'posthoc_tukey' from 'scipy.stats' (/opt/conda/lib/python3.10/site-packages/scipy/stats/__init__.py)"
     ]
    }
   ],
   "source": [
    "import pandas as pd\n",
    "import numpy as np\n",
    "from scipy.stats import ttest_ind, f_oneway, posthoc_tukey\n",
    "import pairwise_tukeyhsd\n",
    "\n",
    "# Create a dataframe with the test scores for the control and experimental groups\n",
    "data = pd.DataFrame({\n",
    "    'group': ['control', 'experimental'],\n",
    "    'scores': [78, 85, 88, 82, 79, 92, 83, 80, 81, 86, 91, 87, 84, 89, 90, 77, 93, 85, 81, 79,\n",
    "               84, 88, 83, 86, 82, 80, 85, 89, 91, 87, 90, 92, 94, 81, 83, 79, 84, 88, 80, 86,\n",
    "               87, 92, 81, 85, 89, 90, 93, 78, 82, 84, 87, 85, 81, 79, 83, 90, 88]\n",
    "})\n",
    "\n",
    "# Conduct the two-sample t-test\n",
    "control_scores = data.loc[data['group'] == 'control', 'scores']\n",
    "experimental_scores = data.loc[data['group'] == 'experimental', 'scores']\n",
    "t_statistic, p_value = ttest_ind(control_scores, experimental_scores)\n",
    "print(f\"T-statistic: {t_statistic:.2f}\")\n",
    "print(f\"P-value: {p_value:.3f}\")\n",
    "\n",
    "# Conduct the post-hoc test using Tukey's HSD\n",
    "tukey_results = posthoc_tukey(data, val_col='scores', group_col='group')\n",
    "print(tukey_results)\n"
   ]
  },
  {
   "cell_type": "markdown",
   "id": "2bd61432-802c-470e-b3b3-527edfc713b1",
   "metadata": {},
   "source": [
    "## Q12. A researcher wants to know if there are any significant differences in the average daily sales of three retail stores: Store A, Store B, and Store C. They randomly select 30 days and record the sales for each store on those days. Conduct a repeated measures ANOVA using Python to determine if there are any significant differences in sales between the three stores. If the results are significant, follow up with a post- hoc test to determine which store(s) differ significantly from each other."
   ]
  },
  {
   "cell_type": "code",
   "execution_count": 13,
   "id": "50b3c7b8-4fb1-4fe0-9bda-1d6f6848bca2",
   "metadata": {},
   "outputs": [
    {
     "ename": "SyntaxError",
     "evalue": "invalid syntax (1819134226.py, line 7)",
     "output_type": "error",
     "traceback": [
      "\u001b[0;36m  Cell \u001b[0;32mIn[13], line 7\u001b[0;36m\u001b[0m\n\u001b[0;31m    data = pd.DataFrame({['Store': ['A', 'A', 'A', 'B', 'B', 'B', 'C', 'C', 'C'],\u001b[0m\n\u001b[0m                                 ^\u001b[0m\n\u001b[0;31mSyntaxError\u001b[0m\u001b[0;31m:\u001b[0m invalid syntax\n"
     ]
    }
   ],
   "source": [
    "import pandas as pd\n",
    "import numpy as np\n",
    "import statsmodels.api as sm\n",
    "from statsmodels.formula.api import ols\n",
    "\n",
    "# Create a data frame with sales data for each store on each day\n",
    "data = pd.DataFrame({['Store': ['A', 'A', 'A', 'B', 'B', 'B', 'C', 'C', 'C'],\n",
    "                     'Day': [1, 2, 3, 1, 2, 3, 1, 2, 3],\n",
    "                     'Sales': [100, 120, 110, 80, 90, 70, 150, 140, 160]]})\n",
    "\n",
    "# Fit a repeated measures ANOVA model\n",
    "model = ols('Sales ~ C(Store) + C(Day) + C(Store):C(Day)', data=data).fit()\n",
    "\n",
    "# Print the ANOVA table\n",
    "anova_table = sm.stats.anova_lm(model, typ=2)\n",
    "print(anova_table)\n",
    "\n",
    "# Conduct post-hoc tests to determine which stores differ significantly from each other\n",
    "from statsmodels.stats.multicomp import pairwise_tukeyhsd\n",
    "\n",
    "# Create a new data frame with sales data for each store (collapsed across days)\n",
    "data_collapsed = pd.DataFrame({'Store': ['A', 'A', 'A', 'B', 'B', 'B', 'C', 'C', 'C'],\n",
    "                               'Sales': [100, 120, 110, 80, 90, 70, 150, 140, 160]})\n",
    "\n",
    "# Conduct Tukey's HSD test to compare all pairwise combinations of stores\n",
    "tukey_results = pairwise_tukeyhsd(data_collapsed['Sales'], data_collapsed['Store'])\n",
    "print(tukey_results)"
   ]
  },
  {
   "cell_type": "code",
   "execution_count": null,
   "id": "9db784aa-b40f-4f62-a277-e2dbcfa6f0b7",
   "metadata": {},
   "outputs": [],
   "source": []
  }
 ],
 "metadata": {
  "kernelspec": {
   "display_name": "Python 3 (ipykernel)",
   "language": "python",
   "name": "python3"
  },
  "language_info": {
   "codemirror_mode": {
    "name": "ipython",
    "version": 3
   },
   "file_extension": ".py",
   "mimetype": "text/x-python",
   "name": "python",
   "nbconvert_exporter": "python",
   "pygments_lexer": "ipython3",
   "version": "3.10.8"
  }
 },
 "nbformat": 4,
 "nbformat_minor": 5
}
