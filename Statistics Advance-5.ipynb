{
 "cells": [
  {
   "cell_type": "markdown",
   "id": "79f9c11d-2fa9-4e3a-ab8d-d8e22f5f240a",
   "metadata": {},
   "source": [
    "## Q1. Calculate the 95% confidence interval for a sample of data with a mean of 50 and a standard deviation of 5 using Python. Interpret the results."
   ]
  },
  {
   "cell_type": "code",
   "execution_count": 6,
   "id": "53af9174-17dd-41d9-83fc-fd0120f0b79a",
   "metadata": {},
   "outputs": [
    {
     "name": "stdout",
     "output_type": "stream",
     "text": [
      "95% Confidence Interval: (49.01, 50.99)\n"
     ]
    }
   ],
   "source": [
    "import scipy.stats as stats\n",
    "\n",
    "# Define the sample mean and standard deviation\n",
    "sample_mean = 50\n",
    "sample_std = 5\n",
    "\n",
    "# Define the sample size\n",
    "n = 100\n",
    "\n",
    "# Calculate the standard error\n",
    "se = sample_std / (n**0.5)\n",
    "\n",
    "# Calculate the margin of error\n",
    "moe = stats.t.ppf(0.975, n-1) * se\n",
    "\n",
    "# Calculate the confidence interval\n",
    "lower_bound = sample_mean - moe\n",
    "upper_bound = sample_mean + moe\n",
    "\n",
    "print(\"95% Confidence Interval: ({:.2f}, {:.2f})\".format(lower_bound, upper_bound))"
   ]
  },
  {
   "cell_type": "markdown",
   "id": "008fb29b-24f1-4d8d-887f-3d6f6ce290ec",
   "metadata": {},
   "source": [
    "## Q2. Conduct a chi-square goodness of fit test to determine if the distribution of colors of M&Ms in a bag matches the expected distribution of 20% blue, 20% orange, 20% green, 10% yellow, 10% red, and 20% brown. Use Python to perform the test with a significance level of 0.05."
   ]
  },
  {
   "cell_type": "code",
   "execution_count": 2,
   "id": "15773da3-4c90-418b-9226-1dcf2048e20d",
   "metadata": {},
   "outputs": [
    {
     "name": "stdout",
     "output_type": "stream",
     "text": [
      "Chi-square statistic: 5.75\n",
      "p-value: 0.3313099848039233\n",
      "Fail to reject null hypothesis; the distribution of M&M colors is as expected.\n"
     ]
    }
   ],
   "source": [
    "import numpy as np\n",
    "from scipy.stats import chisquare\n",
    "\n",
    "# Define expected frequencies\n",
    "expected_freq = np.array([0.2, 0.2, 0.2, 0.1, 0.1, 0.2]) * 100\n",
    "\n",
    "# Count observed frequencies\n",
    "observed_freq = np.array([18, 22, 25, 13, 10, 12])\n",
    "\n",
    "# Perform chi-square goodness of fit test\n",
    "statistic, p_value = chisquare(observed_freq, expected_freq)\n",
    "\n",
    "# Print results\n",
    "print(\"Chi-square statistic:\", statistic)\n",
    "print(\"p-value:\", p_value)\n",
    "if p_value < 0.05:\n",
    "    print(\"Reject null hypothesis; the distribution of M&M colors is not as expected.\")\n",
    "else:\n",
    "    print(\"Fail to reject null hypothesis; the distribution of M&M colors is as expected.\")\n"
   ]
  },
  {
   "cell_type": "markdown",
   "id": "3a98b1cc-7387-42d5-966a-157f2b6ea2eb",
   "metadata": {},
   "source": [
    "## Q3. Use Python to calculate the chi-square statistic and p-value for a contingency table with the following data:"
   ]
  },
  {
   "cell_type": "code",
   "execution_count": 1,
   "id": "ed3c99b5-9bf2-4bc3-bdff-e91b2df3aaa6",
   "metadata": {},
   "outputs": [
    {
     "ename": "SyntaxError",
     "evalue": "invalid syntax (657737333.py, line 1)",
     "output_type": "error",
     "traceback": [
      "\u001b[0;36m  Cell \u001b[0;32mIn[1], line 1\u001b[0;36m\u001b[0m\n\u001b[0;31m    Group A     Group B\u001b[0m\n\u001b[0m          ^\u001b[0m\n\u001b[0;31mSyntaxError\u001b[0m\u001b[0;31m:\u001b[0m invalid syntax\n"
     ]
    }
   ],
   "source": [
    "          Group A     Group B\n",
    "\n",
    "Outcome 1   20           15\n",
    "Outcome 2   10           25\n",
    "Outcome 3   15           20\n"
   ]
  },
  {
   "cell_type": "code",
   "execution_count": 9,
   "id": "5a16818f-e0dd-41c7-8f33-2bc4bd9b46f6",
   "metadata": {},
   "outputs": [
    {
     "name": "stdout",
     "output_type": "stream",
     "text": [
      "Chi-square statistic: 5.833333333333334\n",
      "P-value: 0.05411376622282158\n"
     ]
    }
   ],
   "source": [
    "import numpy as np\n",
    "from scipy.stats import chi2_contingency\n",
    "\n",
    "# Create the contingency table\n",
    "obs = np.array([[20,15], [10,25], [15,20]])\n",
    "\n",
    "# Calculate the chi-square statistic and p-value\n",
    "chi2, pval, dof, expected = chi2_contingency(obs)\n",
    "\n",
    "print(\"Chi-square statistic:\", chi2)\n",
    "print(\"P-value:\", pval)"
   ]
  },
  {
   "cell_type": "markdown",
   "id": "1b27052b-7f05-4181-8281-c6f8db6449ba",
   "metadata": {},
   "source": [
    "## Q4. A study of the prevalence of smoking in a population of 500 individuals found that 60 individuals smoked. Use Python to calculate the 95% confidence interval for the true proportion of individuals in the population who smoke."
   ]
  },
  {
   "cell_type": "code",
   "execution_count": 10,
   "id": "39f65d87-37e9-4344-aa69-573a7408564d",
   "metadata": {},
   "outputs": [
    {
     "name": "stdout",
     "output_type": "stream",
     "text": [
      "95% Confidence Interval for True Proportion of Smokers in Population: (0.092, 0.148)\n"
     ]
    }
   ],
   "source": [
    "from statsmodels.stats.proportion import proportion_confint\n",
    "\n",
    "# Sample size\n",
    "n = 500\n",
    "\n",
    "# Number of smokers in sample\n",
    "smokers = 60\n",
    "\n",
    "# Calculate proportion of smokers in sample\n",
    "p = smokers/n\n",
    "\n",
    "# Calculate 95% confidence interval for true proportion of smokers in population\n",
    "lower, upper = proportion_confint(smokers, n, alpha=0.05)\n",
    "\n",
    "print(\"95% Confidence Interval for True Proportion of Smokers in Population: ({:.3f}, {:.3f})\".format(lower, upper))\n"
   ]
  },
  {
   "cell_type": "markdown",
   "id": "ef74872c-c0eb-42c7-84f2-fcb36f139037",
   "metadata": {},
   "source": [
    "## Q5. Calculate the 90% confidence interval for a sample of data with a mean of 75 and a standard deviation of 12 using Python. Interpret the results."
   ]
  },
  {
   "cell_type": "code",
   "execution_count": 6,
   "id": "1495abad-6e96-4fc2-a733-77eb0ce9baf8",
   "metadata": {},
   "outputs": [
    {
     "name": "stdout",
     "output_type": "stream",
     "text": [
      "90% confidence interval: (72.20859083117598, 77.79140916882402)\n"
     ]
    }
   ],
   "source": [
    "import scipy.stats as stats\n",
    "\n",
    "sample_mean = 75\n",
    "sample_std = 12\n",
    "sample_size = 50 # Assuming a sample size of 50\n",
    "\n",
    "z_critical = stats.norm.ppf(q=0.95)  # q = 1-alpha/2\n",
    "margin_of_error = z_critical * (sample_std / (sample_size**0.5))\n",
    "\n",
    "Confidence_interval = (sample_mean - margin_of_error, sample_mean + margin_of_error)\n",
    "\n",
    "print(\"90% confidence interval:\", Confidence_interval)"
   ]
  },
  {
   "cell_type": "markdown",
   "id": "6a48f7bd-6099-41d3-973f-d3023ac4bda5",
   "metadata": {},
   "source": [
    "## Q6. Use Python to plot the chi-square distribution with 10 degrees of freedom. Label the axes and shade the area corresponding to a chi-square statistic of 15."
   ]
  },
  {
   "cell_type": "code",
   "execution_count": 7,
   "id": "65bb51fa-8792-4c20-82e6-e844d907caa0",
   "metadata": {},
   "outputs": [
    {
     "data": {
      "image/png": "[encoded data removed]",
      "text/plain": [
       "<Figure size 640x480 with 1 Axes>"
      ]
     },
     "metadata": {},
     "output_type": "display_data"
    }
   ],
   "source": [
    "import numpy as np\n",
    "import matplotlib.pyplot as plt\n",
    "from scipy.stats import chi2\n",
    "\n",
    "df = 10 # degree of freedom\n",
    "x = np.linspace(0, 30, 500) # range of chi-sqaure values to plot\n",
    "y = chi2.pdf(x, df) # Probability density function values\n",
    "\n",
    "plt.plot(x, y)\n",
    "plt.xlabel('Chi-Square Values')\n",
    "plt.ylabel('Probability Density')\n",
    "plt.title('Chi-Square Distribution with 10 Degree of Freedom')\n",
    "\n",
    "# Shade area corresponding to chi-sqaure statistics of 15\n",
    "mask = x >= 15\n",
    "plt.fill_between(x[mask], y[mask], alpha=0.5)\n",
    "\n",
    "plt.show()"
   ]
  },
  {
   "cell_type": "markdown",
   "id": "ddc8ab58-dd77-4a9e-a7fd-340bf6a52b24",
   "metadata": {},
   "source": [
    "## Q7. A random sample of 1000 people was asked if they preferred Coke or Pepsi. Of the sample, 520 preferred Coke. Calculate a 99% confidence interval for the true proportion of people in the population who prefer Coke."
   ]
  },
  {
   "cell_type": "markdown",
   "id": "8cec5a84-018a-4f78-8f0b-0974baa986ed",
   "metadata": {},
   "source": [
    "To calculate the confidence interval, we can use the following formula:\n",
    "\n",
    "CI = p ± z * sqrt((p * (1 - p)) / n)\n",
    "\n",
    "Where:\n",
    "\n",
    "CI: confidence interval\n",
    "p: sample proportion\n",
    "z: z-score associated with the desired level of confidence (99% in this case)\n",
    "n: sample size\n",
    "\n",
    "First, let's calculate the sample proportion:\n",
    "\n",
    "p = 520/1000 = 0.52\n",
    "\n",
    "Next, we need to find the z-score associated with the 99% confidence level. We can use the norm.ppf() function from the scipy.stats module to find the z-score:"
   ]
  },
  {
   "cell_type": "code",
   "execution_count": 14,
   "id": "ab40e97b-a8bf-4d61-8d5d-aed9da3bbf00",
   "metadata": {},
   "outputs": [
    {
     "data": {
      "text/plain": [
       "0.52"
      ]
     },
     "execution_count": 14,
     "metadata": {},
     "output_type": "execute_result"
    }
   ],
   "source": [
    "#First, let's calculate the sample proportion:\n",
    "\n",
    "p = 520/1000\n",
    "print(p)"
   ]
  },
  {
   "cell_type": "code",
   "execution_count": 15,
   "id": "ca0179dd-54bf-4b3e-b641-7eb0440e0767",
   "metadata": {},
   "outputs": [
    {
     "name": "stdout",
     "output_type": "stream",
     "text": [
      "2.5758293035489004\n"
     ]
    }
   ],
   "source": [
    "from scipy.stats import norm\n",
    "\n",
    "z = norm.ppf(0.995)\n",
    "print(z)"
   ]
  },
  {
   "cell_type": "code",
   "execution_count": 16,
   "id": "2bae25fa-aabc-459a-886f-fc524131f3eb",
   "metadata": {},
   "outputs": [
    {
     "name": "stdout",
     "output_type": "stream",
     "text": [
      "CI: [0.4793, 0.5607]\n"
     ]
    }
   ],
   "source": [
    "# Now we can calculate the confidence interval:\n",
    "\n",
    "import math\n",
    "\n",
    "n = 1000\n",
    "lower = p - z * math.sqrt((p * (1 - p)) / n)\n",
    "upper = p + z * math.sqrt((p * (1 - p)) / n)\n",
    "\n",
    "print(f\"CI: [{lower:.4f}, {upper:.4f}]\")"
   ]
  },
  {
   "cell_type": "markdown",
   "id": "c7849c9b-6b5f-4ff8-bbcc-eb526f75e306",
   "metadata": {},
   "source": [
    "## Q8. A researcher hypothesizes that a coin is biased towards tails. They flip the coin 100 times and observe 45 tails. Conduct a chi-square goodness of fit test to determine if the observed frequencies match the expected frequencies of a fair coin. Use a significance level of 0.05."
   ]
  },
  {
   "cell_type": "markdown",
   "id": "135a4703-963d-45d8-8cf3-a6fdea72cca0",
   "metadata": {},
   "source": [
    "To conduct a chi-square goodness of fit test, we need to specify our null and alternative hypotheses:\n",
    "\n",
    "Null hypothesis (H0): The observed frequencies match the expected frequencies of a fair coin.\n",
    "\n",
    "Alternative hypothesis (H1): The observed frequencies do not match the expected frequencies of a fair coin.\n"
   ]
  },
  {
   "cell_type": "markdown",
   "id": "36f5e73d-0259-4536-b3c5-d2a6fafabb56",
   "metadata": {},
   "source": [
    "We can use a significance level of 0.05, which means we want our test to have a 5% chance of rejecting the null hypothesis even if it is true.\n",
    "\n",
    "We expect a fair coin to have a 50-50 chance of landing on heads or tails, so our expected frequencies for 100 flips are:\n",
    "\n",
    ". 50 heads\n",
    "\n",
    ". 50 tails\n",
    "\n",
    "We can use a chi-square goodness of fit test to compare the observed frequencies to the expected frequencies. The chi-square statistic is calculated as:\n",
    "\n",
    "where Oi is the observed frequency of tails and Ei is the expected frequency of tails.\n",
    "\n",
    "We can then use a chi-square distribution with one degree of freedom (since there is only one category: tails) to calculate the p-value. If the p-value is less than our significance level, we reject the null hypothesis and conclude that the observed frequencies do not match the expected frequencies."
   ]
  },
  {
   "cell_type": "code",
   "execution_count": 18,
   "id": "ef0691c6-6ec4-4db3-8f45-8ac9c6bece1d",
   "metadata": {},
   "outputs": [
    {
     "name": "stdout",
     "output_type": "stream",
     "text": [
      "Chi-square statistic: 1.0\n",
      "p-value: 0.31731050786291115\n"
     ]
    }
   ],
   "source": [
    "import numpy as np\n",
    "from scipy.stats import chisquare\n",
    "\n",
    "# Set expected frequencies\n",
    "n = 100\n",
    "expected_freq = np.array([n/2, n/2])\n",
    "\n",
    "# Set observed frequencies\n",
    "observed_freq = np.array([55, 45])\n",
    "\n",
    "# Perform chi-square test\n",
    "chi2, p_value = chisquare(observed_freq, expected_freq)\n",
    "\n",
    "# Print results\n",
    "print(\"Chi-square statistic:\", chi2)\n",
    "print(\"p-value:\", p_value)"
   ]
  },
  {
   "cell_type": "markdown",
   "id": "8f7be304-b76c-46b7-bd93-6a1a36a515f2",
   "metadata": {},
   "source": [
    "## Q9. A study was conducted to determine if there is an association between smoking status (smoker or non-smoker) and lung cancer diagnosis (yes or no). The results are shown in the contingency table below.\n",
    "## Conduct a chi-square test for independence to determine if there is a significant association between smoking status and lung cancer diagnosis. Use a significance level of 0.05."
   ]
  },
  {
   "cell_type": "code",
   "execution_count": 1,
   "id": "cfad309f-d53b-46e8-a314-41276861cbcf",
   "metadata": {},
   "outputs": [
    {
     "ename": "SyntaxError",
     "evalue": "invalid syntax (469533970.py, line 1)",
     "output_type": "error",
     "traceback": [
      "\u001b[0;36m  Cell \u001b[0;32mIn[1], line 1\u001b[0;36m\u001b[0m\n\u001b[0;31m    Lung Cancer: Yes    Lung Cancer: No\u001b[0m\n\u001b[0m         ^\u001b[0m\n\u001b[0;31mSyntaxError\u001b[0m\u001b[0;31m:\u001b[0m invalid syntax\n"
     ]
    }
   ],
   "source": [
    "           Lung Cancer: Yes    Lung Cancer: No\n",
    "\n",
    "Smoker          60                140\n",
    "\n",
    "Non-smoker      30                170\n"
   ]
  },
  {
   "cell_type": "code",
   "execution_count": 5,
   "id": "9f291109-6f22-4b89-8aba-bbe08e856826",
   "metadata": {},
   "outputs": [
    {
     "name": "stdout",
     "output_type": "stream",
     "text": [
      "Chi-square statistic: 12.06\n",
      "P-value: 0.0005\n",
      "Degrees of freedom: 1\n",
      "Expected frequencies:\n",
      "[[ 45. 155.]\n",
      " [ 45. 155.]]\n"
     ]
    }
   ],
   "source": [
    "import numpy as np\n",
    "from scipy.stats import chi2_contingency\n",
    "\n",
    "# Create the contingency as a numpy array\n",
    "observed = np.array([[60,140],[30,170]])\n",
    "\n",
    "\n",
    "# Conduct the chi-square test for independence\n",
    "chi2, p, dof, expected = chi2_contingency(observed)\n",
    "\n",
    "# Print the results\n",
    "print(f\"Chi-square statistic: {chi2:.2f}\")\n",
    "print(f\"P-value: {p:.4f}\")\n",
    "print(f\"Degrees of freedom: {dof}\")\n",
    "print(\"Expected frequencies:\")\n",
    "print(expected)"
   ]
  },
  {
   "cell_type": "markdown",
   "id": "6574ce4b-d244-4547-afc2-63141f03024d",
   "metadata": {},
   "source": [
    "## Q10. A study was conducted to determine if the proportion of people who prefer milk chocolate, dark chocolate, or white chocolate is different in the U.S. versus the U.K. A random sample of 500 people from the U.S. and a random sample of 500 people from the U.K. were surveyed. The results are shown in the contingency table below. \n",
    "## Conduct a chi-square test for independence to determine if there is a significant association between chocolate preference and country of origin. Use a significance level of 0.01."
   ]
  },
  {
   "cell_type": "code",
   "execution_count": 7,
   "id": "5dc561d0-e596-4dc4-9e01-d423621567dd",
   "metadata": {},
   "outputs": [
    {
     "ename": "SyntaxError",
     "evalue": "invalid syntax (2935115721.py, line 1)",
     "output_type": "error",
     "traceback": [
      "\u001b[0;36m  Cell \u001b[0;32mIn[7], line 1\u001b[0;36m\u001b[0m\n\u001b[0;31m    Milk Chocolate   Dark Chocolate    White Chocolate\u001b[0m\n\u001b[0m         ^\u001b[0m\n\u001b[0;31mSyntaxError\u001b[0m\u001b[0;31m:\u001b[0m invalid syntax\n"
     ]
    }
   ],
   "source": [
    "                 Milk Chocolate   Dark Chocolate    White Chocolate\n",
    "U.S. (n=500)        200                150              150\n",
    "\n",
    "U.K. (n=500)        225                175              100"
   ]
  },
  {
   "cell_type": "code",
   "execution_count": 8,
   "id": "1f07cc4c-5f4b-48d8-9eb9-b79c3c57acff",
   "metadata": {},
   "outputs": [
    {
     "name": "stdout",
     "output_type": "stream",
     "text": [
      "Chi-square statistic: 13.393665158371041\n",
      "P-value: 0.0012348168997745918\n",
      "Degrees of freedom: 2\n",
      "Expected frequencies:\n",
      "[[212.5 162.5 125. ]\n",
      " [212.5 162.5 125. ]]\n"
     ]
    }
   ],
   "source": [
    "import numpy as np\n",
    "from scipy.stats import chi2_contingency\n",
    "\n",
    "# Create the contingency table\n",
    "obs = np.array([[200, 150, 150], [225, 175, 100]])\n",
    "\n",
    "# Perform the chi-square test for independence\n",
    "chi2, p, dof, expected = chi2_contingency(obs)\n",
    "\n",
    "# Print the results\n",
    "print(f\"Chi-square statistic: {chi2}\")\n",
    "print(f\"P-value: {p}\")\n",
    "print(f\"Degrees of freedom: {dof}\")\n",
    "print(\"Expected frequencies:\")\n",
    "print(expected)\n"
   ]
  },
  {
   "cell_type": "markdown",
   "id": "67543447-81a9-4a02-82cf-c8720b0634f3",
   "metadata": {},
   "source": [
    "## Q11. A random sample of 30 people was selected from a population with an unknown mean and standard deviation. The sample mean was found to be 72 and the sample standard deviation was found to be 10. Conduct a hypothesis test to determine if the population mean is significantly different from 70. Use a significance level of 0.05."
   ]
  },
  {
   "cell_type": "markdown",
   "id": "057accfc-2891-406d-92a5-fd903524cae7",
   "metadata": {},
   "source": [
    "To conduct the hypothesis test, we can use a one-sample t-test. The null and alternative hypotheses are:\n",
    "\n",
    "Null hypothesis: The population mean is equal to 70 (µ = 70)\n",
    "Alternative hypothesis: The population mean is significantly different from 70 (µ ≠ 70)\n",
    "We can calculate the t-statistic using the formula:\n",
    "\n",
    "t = (sample mean - hypothesized mean) / (sample standard deviation / sqrt(sample size))\n",
    "\n",
    "Substituting the values from the problem, we get:\n",
    "\n",
    "t = (72 - 70) / (10 / sqrt(30)) = 1.095\n",
    "\n",
    "We have 28 degrees of freedom (sample size - 1). Using a t-table or a statistical software, we can find the critical t-value for a two-tailed test with a significance level of 0.05 and 28 degrees of freedom to be ±2.048.\n",
    "\n",
    "Since our calculated t-statistic (1.095) falls within the range of -2.048 to 2.048, we fail to reject the null hypothesis. \n",
    "We do not have sufficient evidence to conclude that the population mean is significantly different from 70 at the 0.05 level of significance."
   ]
  },
  {
   "cell_type": "code",
   "execution_count": 10,
   "id": "c7e4a905-3511-496b-a4da-1bfd6a9e33d0",
   "metadata": {},
   "outputs": [
    {
     "name": "stdout",
     "output_type": "stream",
     "text": [
      "t-statistic:  1.1\n",
      "Degrees of freedom:  29\n",
      "Critical t-value:  -2.05\n",
      "p-value:  0.28233623728606977\n",
      "Reject the null hypothesis\n"
     ]
    }
   ],
   "source": [
    "import math\n",
    "from scipy.stats import t\n",
    "\n",
    "# Sample information\n",
    "n = 30\n",
    "x_bar = 72\n",
    "s = 10\n",
    "\n",
    "# Null hypothesis: population mean = 70\n",
    "# Alternative hypothesis: population mean != 70\n",
    "mu0 = 70\n",
    "alpha = 0.05\n",
    "\n",
    "# Calculate the t-statistic\n",
    "t_stat = (x_bar - mu0) / (s / math.sqrt(n))\n",
    "\n",
    "# Calculate the degrees of freedom\n",
    "df = n - 1\n",
    "\n",
    "# Calculate the critical t-value\n",
    "t_crit = t.ppf(alpha / 2, df)\n",
    "\n",
    "# Calculate the p-value\n",
    "p_value = 2 * t.cdf(-abs(t_stat), df)\n",
    "\n",
    "# Print results\n",
    "print(\"t-statistic: \", round(t_stat, 2))\n",
    "print(\"Degrees of freedom: \", df)\n",
    "print(\"Critical t-value: \", round(t_crit, 2))\n",
    "print(\"p-value: \", p_value)\n",
    "\n",
    "# Conduct hypothesis test\n",
    "if abs(t_stat) > t_crit:\n",
    "    print(\"Reject the null hypothesis\")\n",
    "else:\n",
    "    print(\"Fail to reject the null hypothesis\")"
   ]
  },
  {
   "cell_type": "code",
   "execution_count": null,
   "id": "02469903-0363-41d3-b6aa-3a78a5cd932b",
   "metadata": {},
   "outputs": [],
   "source": []
  }
 ],
 "metadata": {
  "kernelspec": {
   "display_name": "Python 3 (ipykernel)",
   "language": "python",
   "name": "python3"
  },
  "language_info": {
   "codemirror_mode": {
    "name": "ipython",
    "version": 3
   },
   "file_extension": ".py",
   "mimetype": "text/x-python",
   "name": "python",
   "nbconvert_exporter": "python",
   "pygments_lexer": "ipython3",
   "version": "3.10.8"
  }
 },
 "nbformat": 4,
 "nbformat_minor": 5
}
