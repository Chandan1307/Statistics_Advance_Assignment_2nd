{
 "cells": [
  {
   "cell_type": "markdown",
   "id": "5b8d5f86-8f07-49b8-a074-7efd4cc6a583",
   "metadata": {},
   "source": [
    "## Q1: What is the difference between a t-test and a z-test? Provide an example scenario where you would use each type of test."
   ]
  },
  {
   "cell_type": "markdown",
   "id": "03200e8c-5821-44d6-8765-95e60a32246d",
   "metadata": {},
   "source": [
    "The t-test and z-test are two commonly used statistical tests used for hypothesis testing. The main difference between the two tests lies in the assumptions about the population variance. The t-test assumes that the population variance is unknown, while the z-test assumes that the population variance is known.\n",
    "\n",
    "\n",
    "A t-test is used when the sample size is small (less than 30) and the population variance is unknown. For example, if a researcher wants to test if a new treatment reduces blood pressure, they can collect a sample of patients and compare the mean blood pressure before and after the treatment using a t-test.\n",
    "\n",
    "\n",
    "On the other hand, a z-test is used when the sample size is large (more than 30) and the population variance is known. For example, if a company wants to test if a new advertising campaign increased sales, they can collect a large sample of customers and compare the mean sales before and after the campaign using a z-test.\n",
    "\n",
    "\n",
    "In summary, the t-test is used when the sample size is small and the population variance is unknown, while the z-test is used when the sample size is large and the population variance is known."
   ]
  },
  {
   "cell_type": "markdown",
   "id": "ba4e4e64-dfa4-45d7-84d3-b344cc18d285",
   "metadata": {},
   "source": [
    "## Z-Test"
   ]
  },
  {
   "cell_type": "code",
   "execution_count": 1,
   "id": "4aa202d9-df13-4e50-a087-b0a85f908a71",
   "metadata": {},
   "outputs": [
    {
     "name": "stdout",
     "output_type": "stream",
     "text": [
      "Z-statistic:  1.0062305898749053\n",
      "P-value:  0.31430466047385397\n"
     ]
    }
   ],
   "source": [
    "import math\n",
    "import scipy.stats as stats\n",
    "\n",
    "# sample data\n",
    "sample = [72, 85, 90, 78, 82, 92, 87, 75, 80, 84, 76, 79, 88, 91, 83, 85, 81, 74, 77, 86]\n",
    "\n",
    "# population parameters\n",
    "pop_mean = 80\n",
    "pop_sd = 10\n",
    "\n",
    "# sample statistics\n",
    "n = len(sample)\n",
    "sample_mean = sum(sample) / n\n",
    "sample_sd = math.sqrt(sum((x - sample_mean) ** 2 for x in sample) / (n - 1))\n",
    "\n",
    "# calculate z-statistic and p-value\n",
    "z = (sample_mean - pop_mean) / (pop_sd / math.sqrt(n))\n",
    "p_value = stats.norm.sf(abs(z)) * 2\n",
    "\n",
    "print(\"Z-statistic: \", z)\n",
    "print(\"P-value: \", p_value)\n"
   ]
  },
  {
   "cell_type": "markdown",
   "id": "9aebf371-6813-47c3-9d42-50233e1b8cce",
   "metadata": {},
   "source": [
    "## T-Test"
   ]
  },
  {
   "cell_type": "code",
   "execution_count": 2,
   "id": "bc48f407-5c85-443b-bb4c-45185cbb1d98",
   "metadata": {},
   "outputs": [
    {
     "name": "stdout",
     "output_type": "stream",
     "text": [
      "T-statistic:  -3.521803625302499\n",
      "P-value:  0.001745569829291585\n"
     ]
    }
   ],
   "source": [
    "import math\n",
    "import scipy.stats as stats\n",
    "\n",
    "# sample data\n",
    "sample = [8.5, 10.1, 9.7, 8.9, 9.6, 9.3, 10.5, 10.4, 9.1, 9.8, 9.7, 9.9, 9.2, 8.8, 10.2, 9.4, 9.6, 9.9, 9.7, 8.7, 10.6, 9.3, 10.3, 9.2, 9.6]\n",
    "\n",
    "# hypothesized population mean\n",
    "pop_mean = 10\n",
    "\n",
    "# sample statistics\n",
    "n = len(sample)\n",
    "sample_mean = sum(sample) / n\n",
    "sample_sd = math.sqrt(sum((x - sample_mean) ** 2 for x in sample) / (n - 1))\n",
    "\n",
    "# calculate t-statistic and p-value\n",
    "t = (sample_mean - pop_mean) / (sample_sd / math.sqrt(n))\n",
    "p_value = stats.t.sf(abs(t), n - 1) * 2\n",
    "\n",
    "print(\"T-statistic: \", t)\n",
    "print(\"P-value: \", p_value)\n"
   ]
  },
  {
   "cell_type": "markdown",
   "id": "bd182616-829d-471f-95f6-d6ebe3d8fbc4",
   "metadata": {},
   "source": [
    "## Q2: Differentiate between one-tailed and two-tailed tests."
   ]
  },
  {
   "cell_type": "markdown",
   "id": "f1f0e8ed-5dc5-48cf-a1e0-3961ee91059a",
   "metadata": {},
   "source": [
    "One-tailed and two-tailed tests are different types of hypothesis tests used in statistics.\n",
    "\n",
    "In a one-tailed test, the null hypothesis is rejected if the sample statistic falls either in the upper or lower tail of the sampling distribution. The alternative hypothesis specifies either an increase or decrease in the population parameter being tested. For example, a one-tailed test could be used to test whether the mean weight of students in a particular school is less than a certain value, where the alternative hypothesis is that the mean weight is less than the value.\n",
    "\n",
    "In a two-tailed test, the null hypothesis is rejected if the sample statistic falls in either tail of the sampling distribution. The alternative hypothesis is that there is a difference between the sample mean and the population mean in either direction. For example, a two-tailed test could be used to test whether the mean height of students in a particular school is different from a certain value, where the alternative hypothesis is that the mean height is either greater or less than the value.\n",
    "\n",
    "The choice of a one-tailed or two-tailed test depends on the research question and the direction of the effect being investigated.\n"
   ]
  },
  {
   "cell_type": "markdown",
   "id": "d363d0a6-1fac-4a5a-a702-7748d225d1f0",
   "metadata": {},
   "source": [
    "There are no specific examples for one-tailed and two-tailed tests in Python as it depends on the specific hypothesis being tested and the type of test being used (e.g., t-test, z-test, etc.). However, here is an example of a two-tailed t-test in Python:\n",
    "\n",
    "Suppose we want to test if the mean height of a population of students is significantly different from 68 inches. We take a sample of 30 students and find the sample mean height to be 70 inches with a sample standard deviation of 2.5 inches. We can perform a two-tailed t-test in Python as follows:"
   ]
  },
  {
   "cell_type": "code",
   "execution_count": 13,
   "id": "5d04cf92-328f-48db-bec2-c137a7438c33",
   "metadata": {},
   "outputs": [
    {
     "ename": "TypeError",
     "evalue": "'float' object is not callable",
     "output_type": "error",
     "traceback": [
      "\u001b[0;31m---------------------------------------------------------------------------\u001b[0m",
      "\u001b[0;31mTypeError\u001b[0m                                 Traceback (most recent call last)",
      "Cell \u001b[0;32mIn[13], line 12\u001b[0m\n\u001b[1;32m      9\u001b[0m n \u001b[38;5;241m=\u001b[39m \u001b[38;5;241m30\u001b[39m\n\u001b[1;32m     11\u001b[0m \u001b[38;5;66;03m# calculate the t-statistic and p-value\u001b[39;00m\n\u001b[0;32m---> 12\u001b[0m t_statistic, p_value \u001b[38;5;241m=\u001b[39m stats\u001b[38;5;241m.\u001b[39mttest_1samp([sample_mean], mu, \u001b[43mstd\u001b[49m\u001b[43m(\u001b[49m\u001b[43msample_mean\u001b[49m\u001b[43m)\u001b[49m\u001b[38;5;241m/\u001b[39msqrt(n))\n\u001b[1;32m     14\u001b[0m \u001b[38;5;66;03m# print the results\u001b[39;00m\n\u001b[1;32m     15\u001b[0m \u001b[38;5;28mprint\u001b[39m(\u001b[38;5;124m\"\u001b[39m\u001b[38;5;124mt-statistic:\u001b[39m\u001b[38;5;124m\"\u001b[39m, t_statistic)\n",
      "\u001b[0;31mTypeError\u001b[0m: 'float' object is not callable"
     ]
    }
   ],
   "source": [
    "import scipy.stats as stats\n",
    "\n",
    "# set up the null hypothesis\n",
    "mu = 68\n",
    "\n",
    "# set up the sample data\n",
    "sample_mean = 70\n",
    "sample_std = 2.5\n",
    "n = 30\n",
    "\n",
    "# calculate the t-statistic and p-value\n",
    "t_statistic, p_value = stats.ttest_1samp([sample_mean], mu, std(sample_mean)/sqrt(n))\n",
    "\n",
    "# print the results\n",
    "print(\"t-statistic:\", t_statistic)\n",
    "print(\"p-value:\", p_value)\n"
   ]
  },
  {
   "cell_type": "markdown",
   "id": "944aa9ca-a6a5-4be2-925d-08e231cf3985",
   "metadata": {},
   "source": [
    "## Q4: Explain Bayes's theorem with an example."
   ]
  },
  {
   "cell_type": "code",
   "execution_count": 14,
   "id": "0099131a-1ff8-468a-bd56-57328f8b4242",
   "metadata": {},
   "outputs": [
    {
     "ename": "SyntaxError",
     "evalue": "unterminated string literal (detected at line 1) (1255134579.py, line 1)",
     "output_type": "error",
     "traceback": [
      "\u001b[0;36m  Cell \u001b[0;32mIn[14], line 1\u001b[0;36m\u001b[0m\n\u001b[0;31m    Bayes's theorem is a fundamental theorem in probability theory that describes the probability of an event based on prior knowledge of conditions that might be related to the event. The theorem is named after Thomas Bayes, an 18th-century British statistician and minister.\u001b[0m\n\u001b[0m         ^\u001b[0m\n\u001b[0;31mSyntaxError\u001b[0m\u001b[0;31m:\u001b[0m unterminated string literal (detected at line 1)\n"
     ]
    }
   ],
   "source": [
    "Bayes's theorem is a fundamental theorem in probability theory that describes the probability of an event based on prior knowledge of conditions that might be related to the event. The theorem is named after Thomas Bayes, an 18th-century British statistician and minister.\n",
    "\n",
    "The formula for Bayes's theorem is as follows:\n",
    "\n",
    "P(A|B) = P(B|A) * P(A) / P(B)\n",
    "\n",
    "where:\n",
    "\n",
    "P(A|B) is the probability of event A given event B\n",
    "P(B|A) is the probability of event B given event A\n",
    "P(A) is the prior probability of event A\n",
    "P(B) is the prior probability of event B\n",
    "Here is an example to illustrate Bayes's theorem:\n",
    "\n",
    "Suppose that a certain medical test is used to diagnose a disease, and the test has a false positive rate of 5% and a false negative rate of 2%. The disease occurs in 1% of the population. A person takes the test and the result is positive. What is the probability that the person actually has the disease?\n",
    "\n",
    "We can use Bayes's theorem to solve this problem as follows:\n",
    "\n",
    "Let A be the event of having the disease, and B be the event of testing positive for the disease. Then we have:\n",
    "\n",
    "P(A) = 0.01 (prior probability of having the disease)\n",
    "P(B|A) = 0.98 (probability of testing positive given that the person has the disease)\n",
    "P(B|not A) = 0.05 (probability of testing positive given that the person does not have the disease)\n",
    "\n",
    "We want to find P(A|B), the probability of having the disease given that the person tested positive. Using Bayes's theorem, we have:\n",
    "\n",
    "P(A|B) = P(B|A) * P(A) / P(B)\n",
    "\n",
    "P(B) = P(B|A) * P(A) + P(B|not A) * P(not A)\n",
    "= 0.98 * 0.01 + 0.05 * 0.99\n",
    "= 0.0585\n",
    "\n",
    "P(A|B) = P(B|A) * P(A) / P(B)\n",
    "= 0.98 * 0.01 / 0.0585\n",
    "= 0.1675\n",
    "\n",
    "Therefore, the probability that the person actually has the disease given a positive test result is 16.75%.\n"
   ]
  },
  {
   "cell_type": "markdown",
   "id": "9d67fe8f-6f51-4ce0-a6fe-232b7f4ad4a5",
   "metadata": {},
   "source": [
    "## Q5: What is a confidence interval? How to calculate the confidence interval, explain with an example."
   ]
  },
  {
   "cell_type": "markdown",
   "id": "d1cfcb8f-4693-4d96-878c-9adee46f0ba7",
   "metadata": {},
   "source": [
    "A confidence interval is a range of values calculated from a sample of data that is likely to contain an unknown population parameter with a certain level of confidence. It provides a range of values within which the true population parameter is expected to lie.\n",
    "\n",
    "To calculate a confidence interval, one needs to know the sample size, sample mean, and sample standard deviation. The confidence level, which is the probability that the true population parameter lies within the interval, also needs to be specified. The formula for calculating a confidence interval for a population mean is:\n",
    "\n",
    "Confidence interval = sample mean ± (critical value x standard error)\n",
    "\n",
    "where the critical value is obtained from a t-distribution or z-distribution based on the sample size and desired confidence level, and the standard error is calculated as the sample standard deviation divided by the square root of the sample size.\n",
    "\n",
    "For example, suppose a random sample of 50 people was taken from a population and their average height was found to be 175 cm with a standard deviation of 8 cm. We want to calculate a 95% confidence interval for the true population mean height.\n",
    "\n",
    "Using a t-distribution (since the population standard deviation is unknown), with 49 degrees of freedom (n-1), we obtain the critical value of 2.009. The standard error can be calculated as:\n",
    "\n",
    "Standard error = 8 / sqrt(50) = 1.13\n",
    "\n",
    "Thus, the confidence interval can be calculated as:\n",
    "\n",
    "175 ± (2.009 x 1.13) = (172.9, 177.1)\n",
    "\n",
    "Therefore, we can be 95% confident that the true population mean height lies between 172.9 cm and 177.1 cm based on this sample."
   ]
  },
  {
   "cell_type": "code",
   "execution_count": 30,
   "id": "69f43cdd-b18f-4703-b900-54bcfc0e5ab6",
   "metadata": {},
   "outputs": [
    {
     "name": "stdout",
     "output_type": "stream",
     "text": [
      "Sample mean: 10.05421814698072\n",
      "Standard error: 0.22678486750723909\n",
      "Margin of error: 0.4499903784535145\n",
      "95% confidence interval: (9.604227768527204, 10.504208525434235)\n"
     ]
    }
   ],
   "source": [
    "import numpy as np\n",
    "import scipy.stats as stats\n",
    "\n",
    "# Generate sample data\n",
    "np.random.seed(123)\n",
    "sample = np.random.normal(loc=10, scale=2, size=100)\n",
    "\n",
    "# Calculate sample mean and standard deviation\n",
    "sample_mean = np.mean(sample)\n",
    "sample_std = np.std(sample, ddof=1)\n",
    "\n",
    "# Calculate standard error\n",
    "std_error = sample_std / np.sqrt(len(sample))\n",
    "\n",
    "# Calculate margin of error\n",
    "margin_of_error = stats.t.ppf(0.975, len(sample)-1) * std_error\n",
    "\n",
    "# Calculate confidence interval\n",
    "conf_interval = (sample_mean - margin_of_error, sample_mean + margin_of_error)\n",
    "\n",
    "print(\"Sample mean:\", sample_mean)\n",
    "print(\"Standard error:\", std_error)\n",
    "print(\"Margin of error:\", margin_of_error)\n",
    "print(\"95% confidence interval:\", conf_interval)"
   ]
  },
  {
   "cell_type": "markdown",
   "id": "0a63f0cd-7ef4-492a-978f-68ddf808a3ea",
   "metadata": {},
   "source": [
    "## Q6. Use Bayes' Theorem to calculate the probability of an event occurring given prior knowledge of the event's probability and new evidence. Provide a sample problem and solution."
   ]
  },
  {
   "cell_type": "code",
   "execution_count": 31,
   "id": "49b51099-06bd-4291-94e7-b95878a1ead1",
   "metadata": {},
   "outputs": [
    {
     "ename": "SyntaxError",
     "evalue": "unterminated string literal (detected at line 7) (2801294734.py, line 7)",
     "output_type": "error",
     "traceback": [
      "\u001b[0;36m  Cell \u001b[0;32mIn[31], line 7\u001b[0;36m\u001b[0m\n\u001b[0;31m    Let's first define the events we are working with:\u001b[0m\n\u001b[0m       ^\u001b[0m\n\u001b[0;31mSyntaxError\u001b[0m\u001b[0;31m:\u001b[0m unterminated string literal (detected at line 7)\n"
     ]
    }
   ],
   "source": [
    "Sure! Here's a sample problem and solution using Bayes' Theorem:\n",
    "\n",
    "Problem: A factory produces two types of widgets, type A and type B, in the ratio of 3:2. The probability that a type A widget is defective is 0.1, while the probability that a type B widget is defective is 0.2. A widget is randomly selected from the factory and found to be defective. What is the probability that it is a type A widget?\n",
    "\n",
    "Solution:\n",
    "\n",
    "Let's first define the events we are working with:\n",
    "\n",
    "A = the widget is of type A\n",
    "B = the widget is of type B\n",
    "D = the widget is defective\n",
    "We are given that the factory produces widgets in the ratio of 3:2, so:\n",
    "\n",
    "P(A) = 3/5\n",
    "P(B) = 2/5\n",
    "\n",
    "We are also given the probability of a defective widget for each type:\n",
    "\n",
    "P(D|A) = 0.1\n",
    "P(D|B) = 0.2\n",
    "\n",
    "We want to find the probability that the defective widget is of type A:\n",
    "\n",
    "P(A|D) = ?\n",
    "\n",
    "Using Bayes' Theorem, we have:\n",
    "\n",
    "P(A|D) = P(D|A) * P(A) / P(D)\n",
    "\n",
    "We can calculate the denominator, P(D), using the law of total probability:\n",
    "\n",
    "P(D) = P(D|A) * P(A) + P(D|B) * P(B)\n",
    "\n",
    "Plugging in the values we have, we get:\n",
    "\n",
    "P(D) = 0.1 * 3/5 + 0.2 * 2/5\n",
    "= 0.14\n",
    "\n",
    "Now we can substitute back into the Bayes' Theorem equation:\n",
    "\n",
    "P(A|D) = 0.1 * 3/5 / 0.14\n",
    "= 0.214\n",
    "\n",
    "So the probability that the defective widget is of type A is approximately 0.214, or 21.4%.\n"
   ]
  },
  {
   "cell_type": "markdown",
   "id": "f09d9cc5-284f-4cb5-acaf-add8d29cdc9f",
   "metadata": {},
   "source": [
    "## Q7. Calculate the 95% confidence interval for a sample of data with a mean of 50 and a standard deviation of 5. Interpret the results."
   ]
  },
  {
   "cell_type": "markdown",
   "id": "4ea7613b-a9cd-4f1b-bcf8-14c72c8e5104",
   "metadata": {},
   "source": [
    "To calculate the 95% confidence interval, we need to use the following formula:\n",
    "\n",
    "Confidence interval = sample mean ± (critical value x standard error)\n",
    "\n",
    "Here, the critical value is the value taken from the standard normal distribution that corresponds to the desired level of confidence (in this case, 95%). We can find this value using a z-score table or a calculator. For a 95% confidence level, the critical value is 1.96.\n",
    "\n",
    "The standard error can be calculated as the standard deviation divided by the square root of the sample size:\n",
    "\n",
    "standard error = standard deviation / √n\n",
    "\n",
    "Substituting the given values in the formula, we get:\n",
    "\n",
    "standard error = 5 / √n\n",
    "\n",
    "Assuming a sample size of 30, we get:\n",
    "\n",
    "standard error = 5 / √30 = 0.9129\n",
    "\n",
    "Therefore, the 95% confidence interval is:\n",
    "\n",
    "50 ± (1.96 x 0.9129) = (47.22, 52.78)\n",
    "\n",
    "Interpretation: We are 95% confident that the true population mean lies between 47.22 and 52.78. This means that if we were to take many samples and calculate the confidence interval for each one, 95% of those intervals would contain the true population mean.\n"
   ]
  },
  {
   "cell_type": "code",
   "execution_count": 32,
   "id": "94499d16-e37a-4be3-ba34-6af5ce0014b4",
   "metadata": {},
   "outputs": [
    {
     "name": "stdout",
     "output_type": "stream",
     "text": [
      "Sample Mean: 50.0\n",
      "Sample Standard Deviation: 1.8257418583505538\n",
      "Margin of Error: 1.3060570468577517\n",
      "Lower Bound: 48.69394295314225\n",
      "Upper Bound: 51.30605704685775\n"
     ]
    }
   ],
   "source": [
    "import numpy as np\n",
    "import scipy.stats as stats\n",
    "\n",
    "# sample data\n",
    "data = [52, 47, 48, 50, 49, 53, 50, 51, 49, 51]\n",
    "\n",
    "# calculate sample mean and standard deviation\n",
    "sample_mean = np.mean(data)\n",
    "sample_std = np.std(data, ddof=1)\n",
    "\n",
    "# calculate t-value for 95% confidence interval with n-1 degrees of freedom\n",
    "t_value = stats.t.ppf(0.975, df=len(data)-1)\n",
    "\n",
    "# calculate margin of error\n",
    "margin_of_error = t_value * sample_std / np.sqrt(len(data))\n",
    "\n",
    "# calculate lower and upper bounds of confidence interval\n",
    "lower_bound = sample_mean - margin_of_error\n",
    "upper_bound = sample_mean + margin_of_error\n",
    "\n",
    "# print the results\n",
    "print(\"Sample Mean:\", sample_mean)\n",
    "print(\"Sample Standard Deviation:\", sample_std)\n",
    "print(\"Margin of Error:\", margin_of_error)\n",
    "print(\"Lower Bound:\", lower_bound)\n",
    "print(\"Upper Bound:\", upper_bound)\n"
   ]
  },
  {
   "cell_type": "markdown",
   "id": "da2b31fc-2a4e-4786-851d-88a8021b6403",
   "metadata": {},
   "source": [
    "## Q8. What is the margin of error in a confidence interval? How does sample size affect the margin of error? Provide an example of a scenario where a larger sample size would result in a smaller margin of error."
   ]
  },
  {
   "cell_type": "markdown",
   "id": "90570744-4920-48ac-a5c7-5fa69ade412c",
   "metadata": {},
   "source": [
    "The margin of error is a measure of the precision of an estimated population parameter, such as the population mean or proportion, based on a sample statistic. It is the maximum expected difference between the true population parameter and the sample estimate, given a specified level of confidence. It is usually represented as a range of values above and below the sample estimate.\n",
    "\n",
    "The margin of error can be calculated using the following formula:\n",
    "Margin of error = z * (standard deviation / sqrt(sample size))\n",
    "\n",
    "Where z is the z-score corresponding to the desired level of confidence, standard deviation is the population standard deviation (if known) or the sample standard deviation (if unknown), and sample size is the size of the sample.\n",
    "\n",
    "Sample size affects the margin of error in that the larger the sample size, the smaller the margin of error, given all other factors are constant. This is because a larger sample size reduces the standard error of the sample mean, making the sample estimate more accurate and closer to the true population parameter.\n",
    "\n",
    "For example, suppose we want to estimate the proportion of adults in a city who support a new policy proposal. We take a random sample of 200 adults and find that 120 of them support the proposal. We want to calculate a 95% confidence interval for the true proportion of supporters in the population.\n",
    "\n",
    "Assuming that the sample is representative of the population, we can use the following formula to calculate the margin of error:\n",
    "Margin of error = 1.96 * sqrt((0.3 * 0.7) / 200) ≈ 0.069 or 6.9%\n",
    "\n",
    "This means that we can be 95% confident that the true proportion of supporters in the population falls within the range of 0.51 (120/200 + 0.069) and 0.69 (120/200 - 0.069).\n",
    "\n",
    "Suppose we want to decrease the margin of error to 4%. To achieve this, we need to increase the sample size. Assuming all other factors are constant, we can use the following formula to calculate the required sample size:\n",
    "Sample size = (z * standard deviation / margin of error)²\n",
    "\n",
    "If we use a z-score of 1.96, a standard deviation of 0.5 (assuming maximum variability), and a margin of error of 0.04, we get:\n",
    "Sample size = (1.96 * 0.5 / 0.04)² ≈ 600.25 or 601 (rounded up)\n",
    "\n",
    "This means that we need to increase the sample size from 200 to at least 601 to achieve a 95% confidence interval with a margin of error of 4%.\n"
   ]
  },
  {
   "cell_type": "markdown",
   "id": "ea9eb180-360a-4ac7-a11d-0ff1c445feb4",
   "metadata": {},
   "source": [
    "## Q9. Calculate the z-score for a data point with a value of 75, a population mean of 70, and a population standard deviation of 5. Interpret the results."
   ]
  },
  {
   "cell_type": "code",
   "execution_count": 36,
   "id": "d85e46ce-20ef-4016-b24b-e4596cd48e82",
   "metadata": {},
   "outputs": [
    {
     "name": "stdout",
     "output_type": "stream",
     "text": [
      "The z-score is: 1.0\n"
     ]
    }
   ],
   "source": [
    "import scipy.stats as stats\n",
    "\n",
    "x = 75 # data point value\n",
    "P_mean = 70 # population mean\n",
    "std = 5 # population standard deviation\n",
    "\n",
    "z = (x - P_mean) / std\n",
    "\n",
    "print(\"The z-score is:\", z)\n"
   ]
  },
  {
   "cell_type": "markdown",
   "id": "176ebee8-4c43-4b62-bb7b-8ada278b9477",
   "metadata": {},
   "source": [
    "## Q10. In a study of the effectiveness of a new weight loss drug, a sample of 50 participants lost an average of 6 pounds with a standard deviation of 2.5 pounds. Conduct a hypothesis test to determine if the drug is significantly effective at a 95% confidence level using a t-test."
   ]
  },
  {
   "cell_type": "code",
   "execution_count": 37,
   "id": "6e7a3dce-1acc-471f-88cd-6384853bbc0b",
   "metadata": {},
   "outputs": [
    {
     "ename": "SyntaxError",
     "evalue": "invalid syntax (1325912613.py, line 1)",
     "output_type": "error",
     "traceback": [
      "\u001b[0;36m  Cell \u001b[0;32mIn[37], line 1\u001b[0;36m\u001b[0m\n\u001b[0;31m    To conduct a hypothesis test, we need to state the null and alternative hypotheses:\u001b[0m\n\u001b[0m       ^\u001b[0m\n\u001b[0;31mSyntaxError\u001b[0m\u001b[0;31m:\u001b[0m invalid syntax\n"
     ]
    }
   ],
   "source": [
    "To conduct a hypothesis test, we need to state the null and alternative hypotheses:\n",
    "\n",
    "Null hypothesis: The weight loss drug is not significantly effective, i.e. the population mean weight loss is not significantly different from 0.\n",
    "Alternative hypothesis: The weight loss drug is significantly effective, i.e. the population mean weight loss is significantly greater than 0.\n",
    "We will use a one-sample t-test with the following parameters:\n",
    "\n",
    "Sample size (n) = 50\n",
    "Sample mean (x̄) = 6\n",
    "Sample standard deviation (s) = 2.5\n",
    "Degrees of freedom (df) = n - 1 = 49\n",
    "Level of significance (α) = 0.05\n",
    "Direction of the alternative hypothesis: one-tailed (greater than)\n",
    "We will first calculate the t-statistic using the formula:\n",
    "\n",
    "t = (x̄ - μ) / (s / sqrt(n))\n",
    "\n",
    "where μ is the population mean, which is assumed to be 0 under the null hypothesis.\n",
    "\n",
    "t = (6 - 0) / (2.5 / sqrt(50))\n",
    "t = 15.49\n",
    "\n",
    "Next, we will find the critical t-value using a t-distribution table or the t.ppf() function in Python. Since we have a one-tailed test with α = 0.05 and df = 49, the critical t-value is:\n",
    "\n",
    "t_critical = stats.t.ppf(1 - 0.05, 49)\n",
    "t_critical = 1.676\n",
    "\n",
    "Since the calculated t-statistic (15.49) is greater than the critical t-value (1.676), we reject the null hypothesis and conclude that the weight loss drug is significantly effective at a 95% confidence level.\n",
    "\n",
    "We can also calculate the p-value using the t.sf() function in Python:\n",
    "\n",
    "p_value = stats.t.sf(t, df) * 2\n",
    "p_value = 1.450e-19\n",
    "\n",
    "The p-value is much smaller than the level of significance (α = 0.05), which further supports the rejection of the null hypothesis."
   ]
  },
  {
   "cell_type": "code",
   "execution_count": 43,
   "id": "a646d062-0058-4ffe-bc73-47afbb6788e6",
   "metadata": {},
   "outputs": [
    {
     "name": "stdout",
     "output_type": "stream",
     "text": [
      "Reject the null hypothesis\n"
     ]
    }
   ],
   "source": [
    "import numpy as np\n",
    "from scipy.stats import t\n",
    "\n",
    "# Define the sample size, sample mean, and sample standard deviation\n",
    "n = 50\n",
    "sample_mean = 6\n",
    "sample_std = 2.5\n",
    "\n",
    "# Define the null hypothesis mean and alpha level\n",
    "null_mean = 0\n",
    "alpha = 0.05\n",
    "\n",
    "# Calculate the t-statistic\n",
    "t_stat = (sample_mean - null_mean) / (sample_std / np.sqrt(n))\n",
    "\n",
    "# Calculate the degrees of freedom\n",
    "df = n - 1\n",
    "\n",
    "# Calculate the critical t-value for a two-tailed test\n",
    "t_crit = t.ppf(alpha/2, df)\n",
    "\n",
    "# Determine if the null hypothesis is rejected\n",
    "if abs(t_stat) > t_crit:\n",
    "    print(\"Reject the null hypothesis\")\n",
    "else:\n",
    "    print(\"Fail to reject the null hypothesis\")\n"
   ]
  },
  {
   "cell_type": "markdown",
   "id": "cb551417-d64b-4a28-b0ab-ac7f65bb6e17",
   "metadata": {},
   "source": [
    "## Q11. In a survey of 500 people, 65% reported being satisfied with their current job. Calculate the 95%.confidence interval for the true proportion of people who are satisfied with their job."
   ]
  },
  {
   "cell_type": "markdown",
   "id": "a7bbaca8-92ed-4fea-823f-dfd92a7fbebb",
   "metadata": {},
   "source": [
    "To calculate the 95% confidence interval for the true proportion of people who are satisfied with their job, we can use the formula:\n",
    "\n",
    "Confidence interval = sample proportion ± z* (sqrt(sample proportion * (1 - sample proportion) / sample size))\n",
    "\n",
    "Where z* is the z-score for the desired level of confidence, which is 1.96 for 95% confidence interval.\n",
    "\n",
    "Substituting the values given in the problem, we get:\n",
    "\n",
    "Confidence interval = 0.65 ± 1.96 * (sqrt(0.65 * 0.35 / 500))\n",
    "\n",
    "Confidence interval = 0.65 ± 0.045\n",
    "\n",
    "Confidence interval = (0.605, 0.695)\n",
    "\n",
    "Therefore, we can say with 95% confidence that the true proportion of people who are satisfied with their job falls within the range of 0.605 to 0.695."
   ]
  },
  {
   "cell_type": "code",
   "execution_count": 53,
   "id": "3238b99b-10da-4d6e-bad5-42e7dd3b80ac",
   "metadata": {},
   "outputs": [
    {
     "ename": "TypeError",
     "evalue": "confint_proportions_2indep() missing 2 required positional arguments: 'count2' and 'nobs2'",
     "output_type": "error",
     "traceback": [
      "\u001b[0;31m---------------------------------------------------------------------------\u001b[0m",
      "\u001b[0;31mTypeError\u001b[0m                                 Traceback (most recent call last)",
      "Cell \u001b[0;32mIn[53], line 10\u001b[0m\n\u001b[1;32m      8\u001b[0m p \u001b[38;5;241m=\u001b[39m x \u001b[38;5;241m/\u001b[39m n\n\u001b[1;32m      9\u001b[0m \u001b[38;5;66;03m# 95% confidence interval\u001b[39;00m\n\u001b[0;32m---> 10\u001b[0m conf_int \u001b[38;5;241m=\u001b[39m \u001b[43mproportion\u001b[49m\u001b[38;5;241;43m.\u001b[39;49m\u001b[43mconfint_proportions_2indep\u001b[49m\u001b[43m(\u001b[49m\u001b[43mp\u001b[49m\u001b[43m,\u001b[49m\u001b[43m \u001b[49m\u001b[43mn\u001b[49m\u001b[43m,\u001b[49m\u001b[43m \u001b[49m\u001b[43malpha\u001b[49m\u001b[38;5;241;43m=\u001b[39;49m\u001b[38;5;241;43m0.05\u001b[39;49m\u001b[43m,\u001b[49m\u001b[43m \u001b[49m\u001b[43mmethod\u001b[49m\u001b[38;5;241;43m=\u001b[39;49m\u001b[38;5;124;43m'\u001b[39;49m\u001b[38;5;124;43mnormal\u001b[39;49m\u001b[38;5;124;43m'\u001b[39;49m\u001b[43m)\u001b[49m\n\u001b[1;32m     12\u001b[0m \u001b[38;5;28mprint\u001b[39m(\u001b[38;5;124mf\u001b[39m\u001b[38;5;124m\"\u001b[39m\u001b[38;5;124m95% confidence interval: (\u001b[39m\u001b[38;5;132;01m{\u001b[39;00mconf_int[\u001b[38;5;241m0\u001b[39m]\u001b[38;5;132;01m:\u001b[39;00m\u001b[38;5;124m.3f\u001b[39m\u001b[38;5;132;01m}\u001b[39;00m\u001b[38;5;124m, \u001b[39m\u001b[38;5;132;01m{\u001b[39;00mconf_int[\u001b[38;5;241m1\u001b[39m]\u001b[38;5;132;01m:\u001b[39;00m\u001b[38;5;124m.3f\u001b[39m\u001b[38;5;132;01m}\u001b[39;00m\u001b[38;5;124m)\u001b[39m\u001b[38;5;124m\"\u001b[39m)\n",
      "\u001b[0;31mTypeError\u001b[0m: confint_proportions_2indep() missing 2 required positional arguments: 'count2' and 'nobs2'"
     ]
    }
   ],
   "source": [
    "import statsmodels.stats.proportion as proportion\n",
    "\n",
    "# sample size\n",
    "n = 500\n",
    "# number of successes\n",
    "x = 325\n",
    "# proportion of successes\n",
    "p = x / n\n",
    "# 95% confidence interval\n",
    "conf_int = proportion.confint_proportions_2indep(p, n, alpha=0.05, method='normal')\n",
    "\n",
    "print(f\"95% confidence interval: ({conf_int[0]:.3f}, {conf_int[1]:.3f})\")"
   ]
  },
  {
   "cell_type": "markdown",
   "id": "5a34f984-aa04-4727-a362-23293669d441",
   "metadata": {},
   "source": [
    "## Q12. A researcher is testing the effectiveness of two different teaching methods on student performance.\n",
    "## Sample A has a mean score of 85 with a standard deviation of 6, while sample B has a mean score of 82 with a standard deviation of 5. Conduct a hypothesis test to determine if the two teaching methods have a significant difference in student performance using a t-test with a significance level of 0.01."
   ]
  },
  {
   "cell_type": "code",
   "execution_count": 50,
   "id": "1d46a880-a2be-45bc-8695-e8284ac6656d",
   "metadata": {},
   "outputs": [
    {
     "name": "stdout",
     "output_type": "stream",
     "text": [
      "t-statistic:  2.5070198473190253\n",
      "p-value:  0.010992368773561604\n",
      "Fail to reject the null hypothesis\n"
     ]
    }
   ],
   "source": [
    "import numpy as np\n",
    "import scipy.stats as stats\n",
    "\n",
    "# Sample A\n",
    "sample_a = [85, 79, 91, 88, 83, 92, 80, 89, 85, 87]\n",
    "\n",
    "# Sample B\n",
    "sample_b = [82, 77, 85, 81, 79, 88, 75, 84, 82, 80]\n",
    "\n",
    "# Calculate the t-statistic and p-value\n",
    "t_stat, p_value = stats.ttest_ind(sample_a, sample_b)\n",
    "\n",
    "# Print the results\n",
    "print(\"t-statistic: \", t_stat)\n",
    "print(\"p-value: \", p_value/2) # one-tailed test\n",
    "\n",
    "# Determine if the null hypothesis should be rejected\n",
    "alpha = 0.01\n",
    "if p_value/2 < alpha:\n",
    "    print(\"Reject the null hypothesis\")\n",
    "else:\n",
    "    print(\"Fail to reject the null hypothesis\")\n"
   ]
  },
  {
   "cell_type": "markdown",
   "id": "70edbcc8-0544-4ded-86e9-eab90eeb2956",
   "metadata": {},
   "source": [
    "## Q13. A population has a mean of 60 and a standard deviation of 8. A sample of 50 observations has a mean of 65. Calculate the 90% confidence interval for the true population mean."
   ]
  },
  {
   "cell_type": "code",
   "execution_count": 51,
   "id": "bc9aa0d7-94cd-472c-a9c1-c46ae1528706",
   "metadata": {},
   "outputs": [
    {
     "ename": "SyntaxError",
     "evalue": "invalid character '±' (U+00B1) (3732833000.py, line 3)",
     "output_type": "error",
     "traceback": [
      "\u001b[0;36m  Cell \u001b[0;32mIn[51], line 3\u001b[0;36m\u001b[0m\n\u001b[0;31m    Confidence Interval = sample mean ± z*(standard deviation / sqrt(n))\u001b[0m\n\u001b[0m                                      ^\u001b[0m\n\u001b[0;31mSyntaxError\u001b[0m\u001b[0;31m:\u001b[0m invalid character '±' (U+00B1)\n"
     ]
    }
   ],
   "source": [
    "To calculate the 90% confidence interval for the true population mean, we can use the following formula:\n",
    "\n",
    "Confidence Interval = sample mean ± z*(standard deviation / sqrt(n))\n",
    "\n",
    "Where:\n",
    "\n",
    "sample mean = 65\n",
    "standard deviation = 8\n",
    "n = 50\n",
    "z-score for 90% confidence level = 1.645 (from z-table or calculator)\n",
    "Plugging in the values, we get:\n",
    "\n",
    "Confidence Interval = 65 ± 1.645*(8 / sqrt(50))\n",
    "Confidence Interval = 65 ± 2.838\n",
    "\n",
    "Therefore, the 90% confidence interval for the true population mean is (62.162, 67.838). We can interpret this result as: we are 90% confident that the true population mean falls between 62.162 and 67.838.\n"
   ]
  },
  {
   "cell_type": "code",
   "execution_count": 52,
   "id": "7157e5e9-6da5-4bf7-9add-c8135bec5942",
   "metadata": {},
   "outputs": [
    {
     "name": "stdout",
     "output_type": "stream",
     "text": [
      "The 90% confidence interval for the true population mean is [63.10319919251691, 66.89680080748309]\n"
     ]
    }
   ],
   "source": [
    "import scipy.stats as stats\n",
    "import math\n",
    "\n",
    "# Given variables\n",
    "pop_mean = 60\n",
    "pop_stddev = 8\n",
    "sample_mean = 65\n",
    "n = 50\n",
    "conf_level = 0.90\n",
    "\n",
    "# Calculate the standard error\n",
    "std_error = pop_stddev / math.sqrt(n)\n",
    "\n",
    "# Calculate the t-value for the given confidence level and degrees of freedom\n",
    "df = n - 1\n",
    "t_value = stats.t.ppf((1 + conf_level) / 2, df)\n",
    "\n",
    "# Calculate the lower and upper bounds of the confidence interval\n",
    "lower_bound = sample_mean - t_value * std_error\n",
    "upper_bound = sample_mean + t_value * std_error\n",
    "\n",
    "# Print the result\n",
    "print(f\"The 90% confidence interval for the true population mean is [{lower_bound}, {upper_bound}]\")\n"
   ]
  },
  {
   "cell_type": "markdown",
   "id": "eb92e5e4-583c-4574-9dbc-8a5fca833aa5",
   "metadata": {},
   "source": [
    "## Q14. In a study of the effects of caffeine on reaction time, a sample of 30 participants had an average reaction time of 0.25 seconds with a standard deviation of 0.05 seconds. Conduct a hypothesis test to determine if the caffeine has a significant effect on reaction time at a 90% confidence level using a t-test."
   ]
  },
  {
   "cell_type": "markdown",
   "id": "611a7bd1-02cf-4794-b785-e82b3224492a",
   "metadata": {},
   "source": [
    "To conduct a hypothesis test, we need to set up our null and alternative hypotheses:\n",
    "\n",
    "Null hypothesis (H0): The mean reaction time for participants who consume caffeine is equal to the mean reaction time for participants who do not consume caffeine.\n",
    "Alternative hypothesis (Ha): The mean reaction time for participants who consume caffeine is different from the mean reaction time for participants who do not consume caffeine.\n",
    "\n",
    "We will use a two-tailed t-test since we are testing for a difference in means. We will use a significance level of 0.1.\n",
    "\n",
    "First, we need to calculate the t-statistic:\n",
    "\n",
    "t = (x̄ - μ) / (s / sqrt(n))\n",
    "\n",
    "where x̄ is the sample mean, μ is the population mean, s is the sample standard deviation, and n is the sample size.\n",
    "\n",
    "t = (0.25 - 0) / (0.05 / sqrt(30))\n",
    "t = 12.247\n",
    "\n",
    "Next, we need to find the critical t-value from the t-distribution table with 29 degrees of freedom and a significance level of 0.05/2 = 0.025 (since we are conducting a two-tailed test). The critical t-value is approximately ±2.045.\n",
    "\n",
    "Since our calculated t-statistic of 12.247 is greater than the critical t-value of ±2.045, we reject the null hypothesis and conclude that there is a significant difference in reaction time between participants who consume caffeine and those who do not at a 90% confidence level."
   ]
  },
  {
   "cell_type": "code",
   "execution_count": 54,
   "id": "67de0410-cb42-4bdd-97c1-665eb4bb8116",
   "metadata": {},
   "outputs": [
    {
     "name": "stdout",
     "output_type": "stream",
     "text": [
      "Fail to reject null hypothesis. There is insufficient evidence to suggest that caffeine has a significant effect on reaction time.\n"
     ]
    }
   ],
   "source": [
    "import scipy.stats as stats\n",
    "\n",
    "# Sample data\n",
    "n = 30\n",
    "sample_mean = 0.25\n",
    "sample_std = 0.05\n",
    "\n",
    "# Null hypothesis: the population mean reaction time without caffeine is 0.26 seconds\n",
    "# Alternative hypothesis: the population mean reaction time with caffeine is less than 0.26 seconds\n",
    "null_mean = 0.26\n",
    "alpha = 0.1 # significance level = 90%\n",
    "\n",
    "# Calculate the t-value and p-value\n",
    "t_value = (sample_mean - null_mean) / (sample_std / (n**0.5))\n",
    "p_value = stats.t.cdf(t_value, df=n-1)\n",
    "\n",
    "# Determine whether to reject or fail to reject the null hypothesis based on the p-value\n",
    "if p_value < alpha:\n",
    "    print(\"Reject null hypothesis. The caffeine has a significant effect on reaction time.\")\n",
    "else:\n",
    "    print(\"Fail to reject null hypothesis. There is insufficient evidence to suggest that caffeine has a significant effect on reaction time.\")\n"
   ]
  },
  {
   "cell_type": "code",
   "execution_count": null,
   "id": "30c67aef-60f4-4240-915d-fcc51b0d6844",
   "metadata": {},
   "outputs": [],
   "source": []
  }
 ],
 "metadata": {
  "kernelspec": {
   "display_name": "Python 3 (ipykernel)",
   "language": "python",
   "name": "python3"
  },
  "language_info": {
   "codemirror_mode": {
    "name": "ipython",
    "version": 3
   },
   "file_extension": ".py",
   "mimetype": "text/x-python",
   "name": "python",
   "nbconvert_exporter": "python",
   "pygments_lexer": "ipython3",
   "version": "3.10.8"
  }
 },
 "nbformat": 4,
 "nbformat_minor": 5
}
